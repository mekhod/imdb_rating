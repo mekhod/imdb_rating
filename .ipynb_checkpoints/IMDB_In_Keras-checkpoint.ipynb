{
 "cells": [
  {
   "cell_type": "markdown",
   "metadata": {},
   "source": [
    "# Analyzing IMDB Data in Keras"
   ]
  },
  {
   "cell_type": "code",
   "execution_count": 21,
   "metadata": {},
   "outputs": [],
   "source": [
    "# Imports\n",
    "import numpy as np\n",
    "import keras\n",
    "from keras.datasets import imdb\n",
    "from keras.models import Sequential\n",
    "from keras.layers import Dense, Dropout, Activation\n",
    "from keras.callbacks import EarlyStopping\n",
    "from keras.callbacks import ModelCheckpoint\n",
    "from keras.optimizers import SGD\n",
    "from keras.optimizers import Adam\n",
    "from keras.wrappers.scikit_learn import KerasClassifier\n",
    "from sklearn.cross_validation import cross_val_score\n",
    "from sklearn.grid_search import GridSearchCV\n",
    "from keras.preprocessing.text import Tokenizer\n",
    "import matplotlib.pyplot as plt\n",
    "%matplotlib inline\n",
    "\n",
    "np.random.seed(42)"
   ]
  },
  {
   "cell_type": "markdown",
   "metadata": {},
   "source": [
    "## 1. Loading the data\n",
    "This dataset comes preloaded with Keras, so one simple command will get us training and testing data. There is a parameter for how many words we want to look at. We've set it at 1000, but feel free to experiment."
   ]
  },
  {
   "cell_type": "code",
   "execution_count": 2,
   "metadata": {},
   "outputs": [
    {
     "name": "stdout",
     "output_type": "stream",
     "text": [
      "(25000,)\n",
      "(25000,)\n"
     ]
    }
   ],
   "source": [
    "# Loading the data (it's preloaded in Keras)\n",
    "(x_train, y_train), (x_test, y_test) = imdb.load_data(num_words=1000)\n",
    "\n",
    "print(x_train.shape)\n",
    "print(x_test.shape)"
   ]
  },
  {
   "cell_type": "markdown",
   "metadata": {},
   "source": [
    "## 2. Examining the data\n",
    "Notice that the data has been already pre-processed, where all the words have numbers, and the reviews come in as a vector with the words that the review contains. For example, if the word 'the' is the first one in our dictionary, and a review contains the word 'the', then there is a 1 in the corresponding vector.\n",
    "\n",
    "The output comes as a vector of 1's and 0's, where 1 is a positive sentiment for the review, and 0 is negative."
   ]
  },
  {
   "cell_type": "code",
   "execution_count": 3,
   "metadata": {},
   "outputs": [
    {
     "name": "stdout",
     "output_type": "stream",
     "text": [
      "[1, 14, 22, 16, 43, 530, 973, 2, 2, 65, 458, 2, 66, 2, 4, 173, 36, 256, 5, 25, 100, 43, 838, 112, 50, 670, 2, 9, 35, 480, 284, 5, 150, 4, 172, 112, 167, 2, 336, 385, 39, 4, 172, 2, 2, 17, 546, 38, 13, 447, 4, 192, 50, 16, 6, 147, 2, 19, 14, 22, 4, 2, 2, 469, 4, 22, 71, 87, 12, 16, 43, 530, 38, 76, 15, 13, 2, 4, 22, 17, 515, 17, 12, 16, 626, 18, 2, 5, 62, 386, 12, 8, 316, 8, 106, 5, 4, 2, 2, 16, 480, 66, 2, 33, 4, 130, 12, 16, 38, 619, 5, 25, 124, 51, 36, 135, 48, 25, 2, 33, 6, 22, 12, 215, 28, 77, 52, 5, 14, 407, 16, 82, 2, 8, 4, 107, 117, 2, 15, 256, 4, 2, 7, 2, 5, 723, 36, 71, 43, 530, 476, 26, 400, 317, 46, 7, 4, 2, 2, 13, 104, 88, 4, 381, 15, 297, 98, 32, 2, 56, 26, 141, 6, 194, 2, 18, 4, 226, 22, 21, 134, 476, 26, 480, 5, 144, 30, 2, 18, 51, 36, 28, 224, 92, 25, 104, 4, 226, 65, 16, 38, 2, 88, 12, 16, 283, 5, 16, 2, 113, 103, 32, 15, 16, 2, 19, 178, 32]\n",
      "1\n"
     ]
    }
   ],
   "source": [
    "print(x_train[0])\n",
    "print(y_train[0])"
   ]
  },
  {
   "cell_type": "markdown",
   "metadata": {},
   "source": [
    "## 3. One-hot encoding the output\n",
    "Here, we'll turn the input vectors into (0,1)-vectors. For example, if the pre-processed vector contains the number 14, then in the processed vector, the 14th entry will be 1."
   ]
  },
  {
   "cell_type": "code",
   "execution_count": 4,
   "metadata": {},
   "outputs": [
    {
     "name": "stdout",
     "output_type": "stream",
     "text": [
      "[ 0.  1.  1.  0.  1.  1.  1.  1.  1.  1.  0.  0.  1.  1.  1.  1.  1.  1.\n",
      "  1.  1.  0.  1.  1.  0.  0.  1.  1.  0.  1.  0.  1.  0.  1.  1.  0.  1.\n",
      "  1.  0.  1.  1.  0.  0.  0.  1.  0.  0.  1.  0.  1.  0.  1.  1.  1.  0.\n",
      "  0.  0.  1.  0.  0.  0.  0.  0.  1.  0.  0.  1.  1.  0.  0.  0.  0.  1.\n",
      "  0.  0.  0.  0.  1.  1.  0.  0.  0.  0.  1.  0.  0.  0.  0.  1.  1.  0.\n",
      "  0.  0.  1.  0.  0.  0.  0.  0.  1.  0.  1.  0.  0.  1.  1.  0.  1.  1.\n",
      "  0.  0.  0.  0.  1.  1.  0.  0.  0.  1.  0.  0.  0.  0.  0.  0.  1.  0.\n",
      "  0.  0.  0.  0.  1.  0.  0.  0.  1.  1.  0.  0.  0.  0.  0.  1.  0.  0.\n",
      "  1.  0.  0.  1.  0.  0.  1.  0.  0.  0.  0.  0.  0.  0.  0.  0.  0.  0.\n",
      "  0.  0.  0.  0.  0.  1.  0.  0.  0.  0.  1.  1.  0.  0.  0.  0.  1.  0.\n",
      "  0.  0.  0.  0.  0.  0.  0.  0.  0.  0.  0.  0.  1.  0.  1.  0.  0.  0.\n",
      "  0.  0.  0.  0.  0.  0.  0.  0.  0.  0.  0.  0.  0.  0.  0.  0.  0.  1.\n",
      "  0.  0.  0.  0.  0.  0.  0.  0.  1.  0.  1.  0.  0.  0.  0.  0.  0.  0.\n",
      "  0.  0.  0.  0.  0.  0.  0.  0.  0.  0.  0.  0.  0.  0.  0.  0.  0.  0.\n",
      "  0.  0.  0.  0.  1.  0.  0.  0.  0.  0.  0.  0.  0.  0.  0.  0.  0.  0.\n",
      "  0.  0.  0.  0.  0.  0.  0.  0.  0.  0.  0.  0.  0.  1.  1.  0.  0.  0.\n",
      "  0.  0.  0.  0.  0.  0.  0.  0.  0.  1.  0.  0.  0.  0.  0.  0.  0.  0.\n",
      "  0.  0.  0.  0.  0.  0.  0.  0.  0.  0.  1.  1.  0.  0.  0.  0.  0.  0.\n",
      "  0.  0.  0.  0.  0.  0.  0.  0.  0.  0.  0.  0.  1.  0.  0.  0.  0.  0.\n",
      "  0.  0.  0.  0.  0.  0.  0.  0.  0.  0.  0.  0.  0.  0.  0.  0.  0.  0.\n",
      "  0.  0.  0.  0.  0.  0.  0.  0.  0.  0.  0.  0.  0.  0.  0.  0.  0.  0.\n",
      "  0.  0.  0.  1.  0.  0.  0.  1.  1.  0.  0.  0.  0.  0.  0.  0.  0.  0.\n",
      "  0.  0.  0.  0.  1.  0.  0.  0.  0.  0.  0.  1.  0.  0.  0.  0.  0.  0.\n",
      "  0.  0.  0.  0.  0.  0.  0.  0.  0.  0.  0.  0.  0.  0.  0.  0.  0.  0.\n",
      "  0.  0.  0.  0.  0.  0.  0.  0.  0.  0.  0.  0.  0.  0.  0.  1.  0.  0.\n",
      "  0.  0.  0.  0.  0.  0.  0.  0.  1.  0.  0.  0.  0.  0.  0.  0.  0.  0.\n",
      "  0.  1.  0.  0.  0.  0.  0.  0.  1.  0.  0.  0.  1.  0.  0.  0.  0.  0.\n",
      "  0.  0.  0.  0.  0.  0.  0.  0.  0.  0.  0.  0.  0.  0.  0.  0.  0.  0.\n",
      "  0.  0.  0.  0.  0.  0.  0.  0.  0.  0.  0.  1.  0.  0.  0.  0.  0.  0.\n",
      "  0.  0.  0.  0.  0.  0.  0.  0.  1.  0.  0.  0.  0.  0.  0.  0.  0.  0.\n",
      "  0.  0.  0.  0.  0.  0.  1.  0.  0.  0.  0.  0.  0.  0.  0.  0.  0.  0.\n",
      "  0.  0.  0.  0.  0.  0.  0.  0.  0.  0.  0.  0.  0.  0.  0.  0.  0.  0.\n",
      "  0.  0.  0.  0.  0.  0.  0.  0.  0.  0.  0.  0.  0.  0.  0.  0.  0.  0.\n",
      "  0.  0.  0.  0.  0.  0.  0.  0.  0.  0.  0.  0.  0.  0.  0.  0.  0.  0.\n",
      "  0.  0.  0.  0.  0.  0.  0.  1.  0.  0.  0.  0.  0.  0.  1.  0.  0.  0.\n",
      "  0.  0.  0.  0.  0.  0.  0.  0.  0.  0.  0.  0.  0.  0.  0.  0.  0.  0.\n",
      "  0.  0.  0.  0.  0.  0.  0.  0.  0.  0.  0.  0.  0.  0.  0.  0.  0.  0.\n",
      "  0.  0.  0.  0.  1.  0.  0.  0.  0.  0.  0.  0.  0.  0.  0.  0.  0.  0.\n",
      "  0.  0.  0.  0.  0.  0.  0.  0.  0.  0.  0.  0.  0.  0.  0.  0.  0.  0.\n",
      "  0.  0.  0.  0.  0.  0.  0.  0.  0.  0.  0.  0.  0.  0.  0.  0.  0.  0.\n",
      "  0.  0.  0.  1.  0.  0.  0.  0.  0.  0.  0.  0.  0.  0.  0.  0.  0.  0.\n",
      "  0.  0.  0.  0.  0.  0.  0.  0.  0.  0.  0.  0.  0.  0.  0.  0.  0.  0.\n",
      "  0.  0.  0.  0.  0.  0.  0.  0.  0.  0.  0.  0.  0.  0.  0.  0.  0.  0.\n",
      "  0.  0.  0.  0.  0.  0.  0.  0.  0.  0.  0.  0.  0.  0.  0.  0.  0.  0.\n",
      "  0.  0.  0.  0.  0.  0.  0.  0.  0.  0.  0.  0.  0.  0.  0.  0.  0.  0.\n",
      "  0.  0.  0.  0.  0.  0.  0.  0.  0.  0.  0.  0.  0.  0.  0.  0.  0.  0.\n",
      "  0.  0.  0.  0.  0.  0.  0.  0.  0.  0.  1.  0.  0.  0.  0.  0.  0.  0.\n",
      "  0.  0.  0.  0.  0.  0.  0.  0.  0.  0.  0.  0.  0.  0.  0.  0.  0.  0.\n",
      "  0.  0.  0.  0.  0.  0.  0.  0.  0.  0.  0.  0.  0.  0.  0.  0.  0.  0.\n",
      "  0.  0.  0.  0.  0.  0.  0.  0.  0.  0.  0.  0.  0.  0.  0.  0.  0.  0.\n",
      "  0.  0.  0.  0.  0.  0.  0.  0.  0.  0.  0.  0.  0.  0.  0.  0.  0.  0.\n",
      "  0.  0.  0.  0.  0.  0.  0.  0.  0.  0.  0.  0.  0.  0.  0.  0.  0.  0.\n",
      "  0.  0.  0.  0.  0.  0.  0.  0.  0.  0.  0.  0.  0.  0.  0.  0.  0.  0.\n",
      "  0.  0.  0.  0.  0.  0.  0.  0.  0.  0.  0.  0.  0.  0.  0.  0.  0.  0.\n",
      "  0.  1.  0.  0.  0.  0.  0.  0.  0.  0.  0.  0.  0.  0.  0.  0.  0.  0.\n",
      "  0.  0.  0.  0.  0.  0.  0.  0.  0.  0.]\n"
     ]
    }
   ],
   "source": [
    "# One-hot encoding the output into vector mode, each of length 1000\n",
    "tokenizer = Tokenizer(num_words=1000)\n",
    "x_train_tok = tokenizer.sequences_to_matrix(x_train, mode='binary')\n",
    "x_test_tok = tokenizer.sequences_to_matrix(x_test, mode='binary')\n",
    "print(x_train_tok[0])"
   ]
  },
  {
   "cell_type": "code",
   "execution_count": 5,
   "metadata": {},
   "outputs": [
    {
     "name": "stdout",
     "output_type": "stream",
     "text": [
      "(25000, 1000)\n"
     ]
    }
   ],
   "source": [
    "print(x_train_tok.shape)"
   ]
  },
  {
   "cell_type": "markdown",
   "metadata": {},
   "source": [
    "And we'll also one-hot encode the output."
   ]
  },
  {
   "cell_type": "code",
   "execution_count": 6,
   "metadata": {},
   "outputs": [
    {
     "name": "stdout",
     "output_type": "stream",
     "text": [
      "(25000, 2)\n",
      "(25000, 2)\n"
     ]
    }
   ],
   "source": [
    "# One-hot encoding the output\n",
    "num_classes = 2\n",
    "y_train_tok = keras.utils.to_categorical(y_train, num_classes)\n",
    "y_test_tok = keras.utils.to_categorical(y_test, num_classes)\n",
    "print(y_train_tok.shape)\n",
    "print(y_test_tok.shape)"
   ]
  },
  {
   "cell_type": "code",
   "execution_count": 7,
   "metadata": {
    "collapsed": true
   },
   "outputs": [],
   "source": [
    "y_train_tok = y_train_tok[:, 1]\n",
    "y_test_tok = y_test_tok[:, 1]"
   ]
  },
  {
   "cell_type": "code",
   "execution_count": 8,
   "metadata": {},
   "outputs": [
    {
     "name": "stdout",
     "output_type": "stream",
     "text": [
      "(25000,)\n",
      "(25000,)\n"
     ]
    }
   ],
   "source": [
    "print(y_train_tok.shape)\n",
    "print(y_test_tok.shape)"
   ]
  },
  {
   "cell_type": "code",
   "execution_count": 9,
   "metadata": {
    "collapsed": true
   },
   "outputs": [],
   "source": [
    "y_train_tok = np.reshape(y_train_tok, (y_train_tok.shape[0], 1))\n",
    "y_test_tok = np.reshape(y_test_tok, (y_test_tok.shape[0], 1))"
   ]
  },
  {
   "cell_type": "code",
   "execution_count": 10,
   "metadata": {},
   "outputs": [
    {
     "data": {
      "text/plain": [
       "array([[ 1.],\n",
       "       [ 0.],\n",
       "       [ 0.],\n",
       "       ..., \n",
       "       [ 0.],\n",
       "       [ 1.],\n",
       "       [ 0.]])"
      ]
     },
     "execution_count": 10,
     "metadata": {},
     "output_type": "execute_result"
    }
   ],
   "source": [
    "y_train_tok"
   ]
  },
  {
   "cell_type": "markdown",
   "metadata": {},
   "source": [
    "## 4. Building the  model architecture\n",
    "Build a model here using sequential. Feel free to experiment with different layers and sizes! Also, experiment adding dropout to reduce overfitting."
   ]
  },
  {
   "cell_type": "code",
   "execution_count": null,
   "metadata": {
    "collapsed": true
   },
   "outputs": [],
   "source": [
    "## Here the optimizers are defined.\n",
    "adam = Adam(lr=0.00005)\n",
    "sgd = SGD(lr=0.005, decay=1e-6, momentum=0.9, nesterov=True)"
   ]
  },
  {
   "cell_type": "code",
   "execution_count": null,
   "metadata": {
    "collapsed": true
   },
   "outputs": [],
   "source": [
    "def construct_model(optimizer=adam):\n",
    "    model = Sequential()\n",
    "    model.add(Dense(units = 1000, kernel_initializer = 'uniform', activation='relu', \n",
    "                    input_dim=1000))\n",
    "    model.add(Dropout(0.5))\n",
    "    model.add(Dense(units = 500, kernel_initializer = 'uniform', activation='relu'))\n",
    "    model.add(Dropout(0.5))\n",
    "    model.add(Dense(units = 1, kernel_initializer = 'uniform', activation='sigmoid'))\n",
    "    # to compile the model using a loss function and an optimizer.\n",
    "    model.compile(loss='binary_crossentropy',\n",
    "              optimizer=optimizer,\n",
    "              metrics=['accuracy'])\n",
    "    return model\n"
   ]
  },
  {
   "cell_type": "code",
   "execution_count": 25,
   "metadata": {},
   "outputs": [
    {
     "name": "stdout",
     "output_type": "stream",
     "text": [
      "_________________________________________________________________\n",
      "Layer (type)                 Output Shape              Param #   \n",
      "=================================================================\n",
      "dense_61 (Dense)             (None, 1000)              1001000   \n",
      "_________________________________________________________________\n",
      "dropout_41 (Dropout)         (None, 1000)              0         \n",
      "_________________________________________________________________\n",
      "dense_62 (Dense)             (None, 500)               500500    \n",
      "_________________________________________________________________\n",
      "dropout_42 (Dropout)         (None, 500)               0         \n",
      "_________________________________________________________________\n",
      "dense_63 (Dense)             (None, 1)                 501       \n",
      "=================================================================\n",
      "Total params: 1,502,001\n",
      "Trainable params: 1,502,001\n",
      "Non-trainable params: 0\n",
      "_________________________________________________________________\n"
     ]
    }
   ],
   "source": [
    "model = construct_model(optimizer=sgd)\n",
    "model.summary()"
   ]
  },
  {
   "cell_type": "markdown",
   "metadata": {},
   "source": [
    "## 5. Training the model\n",
    "Run the model here. Experiment with different batch_size, and number of epochs!"
   ]
  },
  {
   "cell_type": "code",
   "execution_count": 26,
   "metadata": {},
   "outputs": [
    {
     "name": "stdout",
     "output_type": "stream",
     "text": [
      "Epoch 00000: val_acc improved from -inf to 0.84340, saving model to ./weights.hdf5\n",
      "Epoch 00001: val_acc improved from 0.84340 to 0.85508, saving model to ./weights.hdf5\n",
      "Epoch 00002: val_acc improved from 0.85508 to 0.85808, saving model to ./weights.hdf5\n",
      "Epoch 00003: val_acc improved from 0.85808 to 0.85820, saving model to ./weights.hdf5\n",
      "Epoch 00004: val_acc did not improve\n",
      "Epoch 00005: val_acc did not improve\n",
      "Epoch 00006: val_acc improved from 0.85820 to 0.85888, saving model to ./weights.hdf5\n",
      "Epoch 00007: val_acc did not improve\n",
      "Epoch 00008: val_acc did not improve\n",
      "Epoch 00009: val_acc did not improve\n",
      "Epoch 00010: val_acc did not improve\n",
      "Epoch 00011: val_acc did not improve\n",
      "Epoch 00012: val_acc did not improve\n",
      "Epoch 00013: val_acc did not improve\n",
      "Epoch 00014: val_acc did not improve\n"
     ]
    }
   ],
   "source": [
    "checkpointer = ModelCheckpoint('./weights.hdf5', monitor='val_acc', verbose=1,\n",
    "                               save_best_only=True, mode='max')\n",
    "\n",
    "hist = model.fit(x_train_tok, y_train_tok,\n",
    "                 batch_size=32,\n",
    "                 epochs=15,\n",
    "                 validation_data=(x_test_tok, y_test_tok),\n",
    "                 callbacks=[checkpointer],\n",
    "                 verbose=0)\n"
   ]
  },
  {
   "cell_type": "code",
   "execution_count": 28,
   "metadata": {
    "collapsed": true
   },
   "outputs": [],
   "source": [
    "def plot_history(hist, title=''):\n",
    "    ##\n",
    "    plt.plot(hist.history['acc'])\n",
    "    plt.plot(hist.history['val_acc'])\n",
    "    plt.title('model accuracy')\n",
    "    plt.ylabel('accuracy')\n",
    "    plt.xlabel('epoch')\n",
    "    plt.title(title)\n",
    "    plt.legend(['train', 'validation'], loc='upper left')\n",
    "    plt.show()\n",
    "    ##\n",
    "    plt.plot(hist.history['loss'])\n",
    "    plt.plot(hist.history['val_loss'])\n",
    "    plt.title('model loss')\n",
    "    plt.ylabel('loss')\n",
    "    plt.xlabel('epoch')\n",
    "    plt.title(title)\n",
    "    plt.legend(['train', 'validation'], loc='upper left')\n",
    "    plt.yscale('log')\n",
    "    plt.show()\n",
    "    ##\n",
    "    return"
   ]
  },
  {
   "cell_type": "code",
   "execution_count": 29,
   "metadata": {},
   "outputs": [
    {
     "data": {
      "image/png": "[encoded data removed]",
      "text/plain": [
       "<matplotlib.figure.Figure at 0x7f58dc9be518>"
      ]
     },
     "metadata": {},
     "output_type": "display_data"
    },
    {
     "data": {
      "image/png": "[encoded data removed]",
      "text/plain": [
       "<matplotlib.figure.Figure at 0x7f59b3794c88>"
      ]
     },
     "metadata": {},
     "output_type": "display_data"
    }
   ],
   "source": [
    "plot_history(hist=hist)"
   ]
  },
  {
   "cell_type": "markdown",
   "metadata": {},
   "source": [
    "## 6. Evaluating the model\n",
    "This will give you the accuracy of the model, as evaluated on the testing set. Can you get something over 85%?"
   ]
  },
  {
   "cell_type": "code",
   "execution_count": 14,
   "metadata": {
    "collapsed": true
   },
   "outputs": [],
   "source": [
    "def evaluate_model(model_builder=construct_model, optimizer=sgd, weights='weights.hdf5',\n",
    "                  x_val=x_test_tok, y_val=y_test_tok):\n",
    "    ##\n",
    "    model = model_builder(optimizer=optimizer)\n",
    "    model.load_weights(weights)\n",
    "    score = model.evaluate(x_val, y_val, verbose=0)\n",
    "    ##\n",
    "    return print(\"Accuracy: \", score[1])\n",
    "    "
   ]
  },
  {
   "cell_type": "code",
   "execution_count": 36,
   "metadata": {},
   "outputs": [
    {
     "name": "stdout",
     "output_type": "stream",
     "text": [
      "Accuracy:  0.86092\n"
     ]
    }
   ],
   "source": [
    "evaluate_model()"
   ]
  },
  {
   "cell_type": "markdown",
   "metadata": {},
   "source": [
    "## 7. Changing Optimizer\n",
    "Here we change the optimizer to adam."
   ]
  },
  {
   "cell_type": "code",
   "execution_count": 22,
   "metadata": {
    "collapsed": true
   },
   "outputs": [],
   "source": [
    "model_2 = construct_model(optimizer=adam)\n"
   ]
  },
  {
   "cell_type": "code",
   "execution_count": 23,
   "metadata": {},
   "outputs": [
    {
     "name": "stdout",
     "output_type": "stream",
     "text": [
      "Epoch 00000: val_acc improved from -inf to 0.85384, saving model to ./weights_2.hdf5\n",
      "Epoch 00001: val_acc improved from 0.85384 to 0.86208, saving model to ./weights_2.hdf5\n",
      "Epoch 00002: val_acc did not improve\n",
      "Epoch 00003: val_acc did not improve\n",
      "Epoch 00004: val_acc did not improve\n",
      "Epoch 00005: val_acc did not improve\n",
      "Epoch 00006: val_acc did not improve\n",
      "Epoch 00007: val_acc did not improve\n",
      "Epoch 00008: val_acc did not improve\n",
      "Epoch 00009: val_acc did not improve\n",
      "Epoch 00010: val_acc did not improve\n",
      "Epoch 00011: val_acc did not improve\n",
      "Epoch 00012: val_acc did not improve\n",
      "Epoch 00013: val_acc did not improve\n",
      "Epoch 00014: val_acc did not improve\n"
     ]
    }
   ],
   "source": [
    "checkpointer = ModelCheckpoint('./weights_2.hdf5', monitor='val_acc', verbose=1,\n",
    "                               save_best_only=True, mode='max')\n",
    "\n",
    "hist_2 = model_2.fit(x_train_tok, y_train_tok,\n",
    "                 batch_size=32,\n",
    "                 epochs=15,\n",
    "                 validation_data=(x_test_tok, y_test_tok),\n",
    "                 callbacks=[checkpointer],\n",
    "                 verbose=0)"
   ]
  },
  {
   "cell_type": "code",
   "execution_count": 26,
   "metadata": {},
   "outputs": [
    {
     "data": {
      "image/png": "[encoded data removed]",
      "text/plain": [
       "<matplotlib.figure.Figure at 0x7f3294439f60>"
      ]
     },
     "metadata": {},
     "output_type": "display_data"
    },
    {
     "data": {
      "image/png": "[encoded data removed]",
      "text/plain": [
       "<matplotlib.figure.Figure at 0x7f32944a0be0>"
      ]
     },
     "metadata": {},
     "output_type": "display_data"
    }
   ],
   "source": [
    "plot_history(hist=hist_2)"
   ]
  },
  {
   "cell_type": "code",
   "execution_count": 37,
   "metadata": {},
   "outputs": [
    {
     "name": "stdout",
     "output_type": "stream",
     "text": [
      "Accuracy:  0.86208\n"
     ]
    }
   ],
   "source": [
    "evaluate_model(model_builder=construct_model, optimizer=adam, weights='weights_2.hdf5')"
   ]
  },
  {
   "cell_type": "markdown",
   "metadata": {},
   "source": [
    "## 8. k-Fold Cross-Validation"
   ]
  },
  {
   "cell_type": "code",
   "execution_count": 33,
   "metadata": {
    "collapsed": true
   },
   "outputs": [],
   "source": [
    "x_total = np.concatenate((x_train_tok, x_test_tok), axis=0)\n",
    "y_total = np.concatenate((y_train_tok, y_test_tok), axis=0)"
   ]
  },
  {
   "cell_type": "code",
   "execution_count": 34,
   "metadata": {
    "collapsed": true
   },
   "outputs": [],
   "source": [
    "# to wrap the keras model in KerasClassifier so it can be used by scikit-learn\n",
    "neural_net = KerasClassifier(build_fn=construct_model, \n",
    "                             epochs=2, \n",
    "                             batch_size=50, \n",
    "                             verbose=0)"
   ]
  },
  {
   "cell_type": "code",
   "execution_count": 17,
   "metadata": {
    "collapsed": true
   },
   "outputs": [],
   "source": [
    "scores = cross_val_score(neural_net, x_total, y_total, cv=20)"
   ]
  },
  {
   "cell_type": "code",
   "execution_count": 18,
   "metadata": {},
   "outputs": [
    {
     "data": {
      "text/plain": [
       "array([ 0.8624    ,  0.86839999,  0.8652    ,  0.8696    ,  0.86199999,\n",
       "        0.86119999,  0.85759999,  0.8752    ,  0.87719999,  0.86559999,\n",
       "        0.86919999,  0.8788    ,  0.87879999,  0.86839999,  0.86199999,\n",
       "        0.86159999,  0.86479999,  0.8588    ,  0.87279999,  0.86039999])"
      ]
     },
     "execution_count": 18,
     "metadata": {},
     "output_type": "execute_result"
    }
   ],
   "source": [
    "scores"
   ]
  },
  {
   "cell_type": "markdown",
   "metadata": {
    "collapsed": true
   },
   "source": [
    "## 9. Grid-Search"
   ]
  },
  {
   "cell_type": "code",
   "execution_count": 70,
   "metadata": {},
   "outputs": [
    {
     "name": "stdout",
     "output_type": "stream",
     "text": [
      "Epoch 1/2\n",
      "22380/22500 [============================>.] - ETA: 0s - loss: 0.4063 - acc: 0.8133Epoch 00000: loss improved from inf to 0.40583, saving model to ./weights_3.hdf5\n",
      "22500/22500 [==============================] - 11s - loss: 0.4058 - acc: 0.8135    \n",
      "Epoch 2/2\n",
      "22380/22500 [============================>.] - ETA: 0s - loss: 0.3145 - acc: 0.8669Epoch 00001: loss improved from 0.40583 to 0.31444, saving model to ./weights_3.hdf5\n",
      "22500/22500 [==============================] - 6s - loss: 0.3144 - acc: 0.8670     \n",
      "2220/2500 [=========================>....] - ETA: 0sEpoch 1/2\n",
      "22380/22500 [============================>.] - ETA: 0s - loss: 0.4045 - acc: 0.8167Epoch 00000: loss did not improve\n",
      "22500/22500 [==============================] - 10s - loss: 0.4041 - acc: 0.8169    \n",
      "Epoch 2/2\n",
      "22380/22500 [============================>.] - ETA: 0s - loss: 0.3130 - acc: 0.8691Epoch 00001: loss improved from 0.31444 to 0.31334, saving model to ./weights_3.hdf5\n",
      "22500/22500 [==============================] - 8s - loss: 0.3133 - acc: 0.8690     \n",
      "2460/2500 [============================>.] - ETA: 0sEpoch 1/2\n",
      "22380/22500 [============================>.] - ETA: 0s - loss: 0.4077 - acc: 0.8135Epoch 00000: loss did not improve\n",
      "22500/22500 [==============================] - 9s - loss: 0.4072 - acc: 0.8137     \n",
      "Epoch 2/2\n",
      "22380/22500 [============================>.] - ETA: 0s - loss: 0.3155 - acc: 0.8680Epoch 00001: loss did not improve\n",
      "22500/22500 [==============================] - 6s - loss: 0.3154 - acc: 0.8680     \n",
      "2100/2500 [========================>.....] - ETA: 0sEpoch 1/2\n",
      "22440/22500 [============================>.] - ETA: 0s - loss: 0.4083 - acc: 0.8158Epoch 00000: loss did not improve\n",
      "22500/22500 [==============================] - 9s - loss: 0.4081 - acc: 0.8160     \n",
      "Epoch 2/2\n",
      "22380/22500 [============================>.] - ETA: 0s - loss: 0.3165 - acc: 0.8653Epoch 00001: loss did not improve\n",
      "22500/22500 [==============================] - 6s - loss: 0.3161 - acc: 0.8656     \n",
      "2160/2500 [========================>.....] - ETA: 0sEpoch 1/2\n",
      "22380/22500 [============================>.] - ETA: 0s - loss: 0.4052 - acc: 0.8183Epoch 00000: loss did not improve\n",
      "22500/22500 [==============================] - 9s - loss: 0.4048 - acc: 0.8185     \n",
      "Epoch 2/2\n",
      "22380/22500 [============================>.] - ETA: 0s - loss: 0.3160 - acc: 0.8650Epoch 00001: loss did not improve\n",
      "22500/22500 [==============================] - 6s - loss: 0.3158 - acc: 0.8652     \n",
      "2500/2500 [==============================] - 2s     \n",
      "Epoch 1/2\n",
      "22440/22500 [============================>.] - ETA: 0s - loss: 0.4072 - acc: 0.8142Epoch 00000: loss did not improve\n",
      "22500/22500 [==============================] - 9s - loss: 0.4070 - acc: 0.8143     \n",
      "Epoch 2/2\n",
      "22380/22500 [============================>.] - ETA: 0s - loss: 0.3167 - acc: 0.8647Epoch 00001: loss did not improve\n",
      "22500/22500 [==============================] - 6s - loss: 0.3165 - acc: 0.8649     \n",
      "2460/2500 [============================>.] - ETA: 0sEpoch 1/2\n",
      "22380/22500 [============================>.] - ETA: 0s - loss: 0.4040 - acc: 0.8176Epoch 00000: loss did not improve\n",
      "22500/22500 [==============================] - 9s - loss: 0.4039 - acc: 0.8176     \n",
      "Epoch 2/2\n",
      "22380/22500 [============================>.] - ETA: 0s - loss: 0.3130 - acc: 0.8680Epoch 00001: loss improved from 0.31334 to 0.31259, saving model to ./weights_3.hdf5\n",
      "22500/22500 [==============================] - 7s - loss: 0.3126 - acc: 0.8683     \n",
      "2100/2500 [========================>.....] - ETA: 0sEpoch 1/2\n",
      "22440/22500 [============================>.] - ETA: 0s - loss: 0.4108 - acc: 0.8143Epoch 00000: loss did not improve\n",
      "22500/22500 [==============================] - 9s - loss: 0.4104 - acc: 0.8145     \n",
      "Epoch 2/2\n",
      "22380/22500 [============================>.] - ETA: 0s - loss: 0.3133 - acc: 0.8669Epoch 00001: loss did not improve\n",
      "22500/22500 [==============================] - 6s - loss: 0.3134 - acc: 0.8669     \n",
      "2500/2500 [==============================] - 2s     \n",
      "Epoch 1/2\n",
      "22380/22500 [============================>.] - ETA: 0s - loss: 0.4101 - acc: 0.8138Epoch 00000: loss did not improve\n",
      "22500/22500 [==============================] - 9s - loss: 0.4096 - acc: 0.8140     \n",
      "Epoch 2/2\n",
      "22380/22500 [============================>.] - ETA: 0s - loss: 0.3167 - acc: 0.8668Epoch 00001: loss did not improve\n",
      "22500/22500 [==============================] - 6s - loss: 0.3166 - acc: 0.8669     \n",
      "2500/2500 [==============================] - 2s     \n",
      "Epoch 1/2\n",
      "22380/22500 [============================>.] - ETA: 0s - loss: 0.4056 - acc: 0.8142Epoch 00000: loss did not improve\n",
      "22500/22500 [==============================] - 10s - loss: 0.4051 - acc: 0.8145    \n",
      "Epoch 2/2\n",
      "22380/22500 [============================>.] - ETA: 0s - loss: 0.3161 - acc: 0.8671Epoch 00001: loss did not improve\n",
      "22500/22500 [==============================] - 6s - loss: 0.3161 - acc: 0.8672     \n",
      "2460/2500 [============================>.] - ETA: 0sEpoch 1/3\n",
      "22380/22500 [============================>.] - ETA: 0s - loss: 0.4017 - acc: 0.8196Epoch 00000: loss did not improve\n",
      "22500/22500 [==============================] - 10s - loss: 0.4010 - acc: 0.8200    \n",
      "Epoch 2/3\n",
      "22380/22500 [============================>.] - ETA: 0s - loss: 0.3125 - acc: 0.8683Epoch 00001: loss improved from 0.31259 to 0.31228, saving model to ./weights_3.hdf5\n",
      "22500/22500 [==============================] - 8s - loss: 0.3123 - acc: 0.8685     \n",
      "Epoch 3/3\n",
      "22380/22500 [============================>.] - ETA: 0s - loss: 0.2872 - acc: 0.8816Epoch 00002: loss improved from 0.31228 to 0.28720, saving model to ./weights_3.hdf5\n",
      "22500/22500 [==============================] - 6s - loss: 0.2872 - acc: 0.8816     \n",
      "2460/2500 [============================>.] - ETA: 0sEpoch 1/3\n",
      "22380/22500 [============================>.] - ETA: 0s - loss: 0.4040 - acc: 0.8137Epoch 00000: loss did not improve\n",
      "22500/22500 [==============================] - 10s - loss: 0.4039 - acc: 0.8139    \n",
      "Epoch 2/3\n",
      "22380/22500 [============================>.] - ETA: 0s - loss: 0.3165 - acc: 0.8677Epoch 00001: loss did not improve\n",
      "22500/22500 [==============================] - 6s - loss: 0.3168 - acc: 0.8674     \n",
      "Epoch 3/3\n",
      "22380/22500 [============================>.] - ETA: 0s - loss: 0.2928 - acc: 0.8765Epoch 00002: loss did not improve\n",
      "22500/22500 [==============================] - 6s - loss: 0.2929 - acc: 0.8765     \n",
      "2500/2500 [==============================] - 3s     \n",
      "Epoch 1/3\n",
      "22380/22500 [============================>.] - ETA: 0s - loss: 0.4049 - acc: 0.8165Epoch 00000: loss did not improve\n",
      "22500/22500 [==============================] - 10s - loss: 0.4046 - acc: 0.8165    \n",
      "Epoch 2/3\n",
      "22380/22500 [============================>.] - ETA: 0s - loss: 0.3155 - acc: 0.8672Epoch 00001: loss did not improve\n",
      "22500/22500 [==============================] - 6s - loss: 0.3152 - acc: 0.8673     \n",
      "Epoch 3/3\n",
      "22380/22500 [============================>.] - ETA: 0s - loss: 0.2870 - acc: 0.8794Epoch 00002: loss improved from 0.28720 to 0.28685, saving model to ./weights_3.hdf5\n",
      "22500/22500 [==============================] - 8s - loss: 0.2869 - acc: 0.8794     \n",
      "2460/2500 [============================>.] - ETA: 0sEpoch 1/3\n",
      "22380/22500 [============================>.] - ETA: 0s - loss: 0.4070 - acc: 0.8182Epoch 00000: loss did not improve\n",
      "22500/22500 [==============================] - 10s - loss: 0.4064 - acc: 0.8185    \n",
      "Epoch 2/3\n",
      "22380/22500 [============================>.] - ETA: 0s - loss: 0.3177 - acc: 0.8662Epoch 00001: loss did not improve\n",
      "22500/22500 [==============================] - 6s - loss: 0.3179 - acc: 0.8663     \n",
      "Epoch 3/3\n",
      "22380/22500 [============================>.] - ETA: 0s - loss: 0.2909 - acc: 0.8797Epoch 00002: loss did not improve\n",
      "22500/22500 [==============================] - 6s - loss: 0.2911 - acc: 0.8796     \n",
      "2460/2500 [============================>.] - ETA: 0sEpoch 1/3\n",
      "22380/22500 [============================>.] - ETA: 0s - loss: 0.4053 - acc: 0.8164Epoch 00000: loss did not improve\n",
      "22500/22500 [==============================] - 10s - loss: 0.4048 - acc: 0.8167    \n",
      "Epoch 2/3\n",
      "22380/22500 [============================>.] - ETA: 0s - loss: 0.3168 - acc: 0.8679Epoch 00001: loss did not improve\n"
     ]
    },
    {
     "name": "stdout",
     "output_type": "stream",
     "text": [
      "22500/22500 [==============================] - 6s - loss: 0.3171 - acc: 0.8676     \n",
      "Epoch 3/3\n",
      "22380/22500 [============================>.] - ETA: 0s - loss: 0.2877 - acc: 0.8794Epoch 00002: loss did not improve\n",
      "22500/22500 [==============================] - 6s - loss: 0.2876 - acc: 0.8795     \n",
      "2500/2500 [==============================] - 3s     \n",
      "Epoch 1/3\n",
      "22380/22500 [============================>.] - ETA: 0s - loss: 0.4075 - acc: 0.8158Epoch 00000: loss did not improve\n",
      "22500/22500 [==============================] - 10s - loss: 0.4076 - acc: 0.8156    \n",
      "Epoch 2/3\n",
      "22380/22500 [============================>.] - ETA: 0s - loss: 0.3137 - acc: 0.8699Epoch 00001: loss did not improve\n",
      "22500/22500 [==============================] - 6s - loss: 0.3133 - acc: 0.8701     \n",
      "Epoch 3/3\n",
      "22380/22500 [============================>.] - ETA: 0s - loss: 0.2886 - acc: 0.8798Epoch 00002: loss did not improve\n",
      "22500/22500 [==============================] - 6s - loss: 0.2890 - acc: 0.8797     \n",
      "2400/2500 [===========================>..] - ETA: 0sEpoch 1/3\n",
      "22380/22500 [============================>.] - ETA: 0s - loss: 0.4045 - acc: 0.8187Epoch 00000: loss did not improve\n",
      "22500/22500 [==============================] - 10s - loss: 0.4045 - acc: 0.8188    \n",
      "Epoch 2/3\n",
      "22380/22500 [============================>.] - ETA: 0s - loss: 0.3117 - acc: 0.8688Epoch 00001: loss did not improve\n",
      "22500/22500 [==============================] - 6s - loss: 0.3116 - acc: 0.8688     \n",
      "Epoch 3/3\n",
      "22380/22500 [============================>.] - ETA: 0s - loss: 0.2867 - acc: 0.8808Epoch 00002: loss improved from 0.28685 to 0.28655, saving model to ./weights_3.hdf5\n",
      "22500/22500 [==============================] - 8s - loss: 0.2866 - acc: 0.8807     \n",
      "2460/2500 [============================>.] - ETA: 0sEpoch 1/3\n",
      "22380/22500 [============================>.] - ETA: 0s - loss: 0.4054 - acc: 0.8141Epoch 00000: loss did not improve\n",
      "22500/22500 [==============================] - 10s - loss: 0.4052 - acc: 0.8144    \n",
      "Epoch 2/3\n",
      "22380/22500 [============================>.] - ETA: 0s - loss: 0.3162 - acc: 0.8665Epoch 00001: loss did not improve\n",
      "22500/22500 [==============================] - 6s - loss: 0.3171 - acc: 0.8664     \n",
      "Epoch 3/3\n",
      "22380/22500 [============================>.] - ETA: 0s - loss: 0.2894 - acc: 0.8811Epoch 00002: loss did not improve\n",
      "22500/22500 [==============================] - 6s - loss: 0.2892 - acc: 0.8813     \n",
      "2400/2500 [===========================>..] - ETA: 0sEpoch 1/3\n",
      "22380/22500 [============================>.] - ETA: 0s - loss: 0.4046 - acc: 0.8162Epoch 00000: loss did not improve\n",
      "22500/22500 [==============================] - 10s - loss: 0.4044 - acc: 0.8164    \n",
      "Epoch 2/3\n",
      "22380/22500 [============================>.] - ETA: 0s - loss: 0.3170 - acc: 0.8665Epoch 00001: loss did not improve\n",
      "22500/22500 [==============================] - 6s - loss: 0.3166 - acc: 0.8667     \n",
      "Epoch 3/3\n",
      "22380/22500 [============================>.] - ETA: 0s - loss: 0.2891 - acc: 0.8800Epoch 00002: loss did not improve\n",
      "22500/22500 [==============================] - 6s - loss: 0.2888 - acc: 0.8801     \n",
      "2500/2500 [==============================] - 3s     \n",
      "Epoch 1/3\n",
      "22380/22500 [============================>.] - ETA: 0s - loss: 0.4042 - acc: 0.8163Epoch 00000: loss did not improve\n",
      "22500/22500 [==============================] - 10s - loss: 0.4039 - acc: 0.8164    \n",
      "Epoch 2/3\n",
      "22380/22500 [============================>.] - ETA: 0s - loss: 0.3121 - acc: 0.8687Epoch 00001: loss did not improve\n",
      "22500/22500 [==============================] - 6s - loss: 0.3116 - acc: 0.8690     \n",
      "Epoch 3/3\n",
      "22380/22500 [============================>.] - ETA: 0s - loss: 0.2867 - acc: 0.8794Epoch 00002: loss did not improve\n",
      "22500/22500 [==============================] - 6s - loss: 0.2868 - acc: 0.8794     \n",
      "2500/2500 [==============================] - 3s     \n",
      "Epoch 1/4\n",
      "22380/22500 [============================>.] - ETA: 0s - loss: 0.4110 - acc: 0.8091Epoch 00000: loss did not improve\n",
      "22500/22500 [==============================] - 10s - loss: 0.4106 - acc: 0.8093    \n",
      "Epoch 2/4\n",
      "22380/22500 [============================>.] - ETA: 0s - loss: 0.3145 - acc: 0.8664Epoch 00001: loss did not improve\n",
      "22500/22500 [==============================] - 6s - loss: 0.3141 - acc: 0.8665     \n",
      "Epoch 3/4\n",
      "22380/22500 [============================>.] - ETA: 0s - loss: 0.2863 - acc: 0.8811Epoch 00002: loss improved from 0.28655 to 0.28623, saving model to ./weights_3.hdf5\n",
      "22500/22500 [==============================] - 8s - loss: 0.2862 - acc: 0.8809     \n",
      "Epoch 4/4\n",
      "22380/22500 [============================>.] - ETA: 0s - loss: 0.2604 - acc: 0.8924Epoch 00003: loss improved from 0.28623 to 0.26056, saving model to ./weights_3.hdf5\n",
      "22500/22500 [==============================] - 6s - loss: 0.2606 - acc: 0.8925     \n",
      "2460/2500 [============================>.] - ETA: 0sEpoch 1/4\n",
      "22380/22500 [============================>.] - ETA: 0s - loss: 0.4049 - acc: 0.8169Epoch 00000: loss did not improve\n",
      "22500/22500 [==============================] - 10s - loss: 0.4049 - acc: 0.8168    \n",
      "Epoch 2/4\n",
      "22380/22500 [============================>.] - ETA: 0s - loss: 0.3118 - acc: 0.8712Epoch 00001: loss did not improve\n",
      "22500/22500 [==============================] - 6s - loss: 0.3114 - acc: 0.8713     \n",
      "Epoch 3/4\n",
      "22380/22500 [============================>.] - ETA: 0s - loss: 0.2891 - acc: 0.8799Epoch 00002: loss did not improve\n",
      "22500/22500 [==============================] - 6s - loss: 0.2891 - acc: 0.8797     \n",
      "Epoch 4/4\n",
      "22380/22500 [============================>.] - ETA: 0s - loss: 0.2612 - acc: 0.8910Epoch 00003: loss did not improve\n",
      "22500/22500 [==============================] - 6s - loss: 0.2612 - acc: 0.8910     \n",
      "2460/2500 [============================>.] - ETA: 0sEpoch 1/4\n",
      "22380/22500 [============================>.] - ETA: 0s - loss: 0.4050 - acc: 0.8155Epoch 00000: loss did not improve\n",
      "22500/22500 [==============================] - 14s - loss: 0.4048 - acc: 0.8157    \n",
      "Epoch 2/4\n",
      "22380/22500 [============================>.] - ETA: 0s - loss: 0.3154 - acc: 0.8656Epoch 00001: loss did not improve\n",
      "22500/22500 [==============================] - 6s - loss: 0.3154 - acc: 0.8657     \n",
      "Epoch 3/4\n",
      "22380/22500 [============================>.] - ETA: 0s - loss: 0.2867 - acc: 0.8820Epoch 00002: loss did not improve\n",
      "22500/22500 [==============================] - 6s - loss: 0.2868 - acc: 0.8820     \n",
      "Epoch 4/4\n",
      "22380/22500 [============================>.] - ETA: 0s - loss: 0.2609 - acc: 0.8929Epoch 00003: loss did not improve\n",
      "22500/22500 [==============================] - 6s - loss: 0.2607 - acc: 0.8930     \n",
      "2400/2500 [===========================>..] - ETA: 0sEpoch 1/4\n",
      "22380/22500 [============================>.] - ETA: 0s - loss: 0.4101 - acc: 0.8095Epoch 00000: loss did not improve\n",
      "22500/22500 [==============================] - 10s - loss: 0.4099 - acc: 0.8097    \n",
      "Epoch 2/4\n",
      "22380/22500 [============================>.] - ETA: 0s - loss: 0.3170 - acc: 0.8665Epoch 00001: loss did not improve\n",
      "22500/22500 [==============================] - 6s - loss: 0.3168 - acc: 0.8665     \n",
      "Epoch 3/4\n",
      "22380/22500 [============================>.] - ETA: 0s - loss: 0.2888 - acc: 0.8808Epoch 00002: loss did not improve\n",
      "22500/22500 [==============================] - 6s - loss: 0.2884 - acc: 0.8810     \n",
      "Epoch 4/4\n",
      "22380/22500 [============================>.] - ETA: 0s - loss: 0.2624 - acc: 0.8927Epoch 00003: loss did not improve\n",
      "22500/22500 [==============================] - 6s - loss: 0.2623 - acc: 0.8927     \n",
      "2500/2500 [==============================] - 3s     \n",
      "Epoch 1/4\n",
      "22380/22500 [============================>.] - ETA: 0s - loss: 0.4053 - acc: 0.8157Epoch 00000: loss did not improve\n",
      "22500/22500 [==============================] - 10s - loss: 0.4047 - acc: 0.8159    \n",
      "Epoch 2/4\n",
      "22380/22500 [============================>.] - ETA: 0s - loss: 0.3130 - acc: 0.8680Epoch 00001: loss did not improve\n",
      "22500/22500 [==============================] - 6s - loss: 0.3133 - acc: 0.8679     \n",
      "Epoch 3/4\n",
      "22380/22500 [============================>.] - ETA: 0s - loss: 0.2864 - acc: 0.8795Epoch 00002: loss did not improve\n",
      "22500/22500 [==============================] - 6s - loss: 0.2864 - acc: 0.8796     \n",
      "Epoch 4/4\n"
     ]
    },
    {
     "name": "stdout",
     "output_type": "stream",
     "text": [
      "22380/22500 [============================>.] - ETA: 0s - loss: 0.2604 - acc: 0.8927Epoch 00003: loss improved from 0.26056 to 0.26017, saving model to ./weights_3.hdf5\n",
      "22500/22500 [==============================] - 8s - loss: 0.2602 - acc: 0.8930     \n",
      "2460/2500 [============================>.] - ETA: 0sEpoch 1/4\n",
      "22380/22500 [============================>.] - ETA: 0s - loss: 0.4074 - acc: 0.8179Epoch 00000: loss did not improve\n",
      "22500/22500 [==============================] - 10s - loss: 0.4071 - acc: 0.8180    \n",
      "Epoch 2/4\n",
      "22380/22500 [============================>.] - ETA: 0s - loss: 0.3139 - acc: 0.8691Epoch 00001: loss did not improve\n",
      "22500/22500 [==============================] - 6s - loss: 0.3138 - acc: 0.8691     \n",
      "Epoch 3/4\n",
      "22380/22500 [============================>.] - ETA: 0s - loss: 0.2888 - acc: 0.8802Epoch 00002: loss did not improve\n",
      "22500/22500 [==============================] - 6s - loss: 0.2884 - acc: 0.8802     \n",
      "Epoch 4/4\n",
      "22380/22500 [============================>.] - ETA: 0s - loss: 0.2641 - acc: 0.8932Epoch 00003: loss did not improve\n",
      "22500/22500 [==============================] - 6s - loss: 0.2638 - acc: 0.8932     \n",
      "2400/2500 [===========================>..] - ETA: 0sEpoch 1/4\n",
      "22380/22500 [============================>.] - ETA: 0s - loss: 0.4072 - acc: 0.8142Epoch 00000: loss did not improve\n",
      "22500/22500 [==============================] - 10s - loss: 0.4068 - acc: 0.8145    \n",
      "Epoch 2/4\n",
      "22380/22500 [============================>.] - ETA: 0s - loss: 0.3142 - acc: 0.8682Epoch 00001: loss did not improve\n",
      "22500/22500 [==============================] - 6s - loss: 0.3144 - acc: 0.8681     \n",
      "Epoch 3/4\n",
      "22380/22500 [============================>.] - ETA: 0s - loss: 0.2864 - acc: 0.8780Epoch 00002: loss did not improve\n",
      "22500/22500 [==============================] - 6s - loss: 0.2866 - acc: 0.8777     \n",
      "Epoch 4/4\n",
      "22380/22500 [============================>.] - ETA: 0s - loss: 0.2606 - acc: 0.8941Epoch 00003: loss did not improve\n",
      "22500/22500 [==============================] - 6s - loss: 0.2605 - acc: 0.8942     \n",
      "2460/2500 [============================>.] - ETA: 0sEpoch 1/4\n",
      "22380/22500 [============================>.] - ETA: 0s - loss: 0.4087 - acc: 0.8139Epoch 00000: loss did not improve\n",
      "22500/22500 [==============================] - 10s - loss: 0.4081 - acc: 0.8141    \n",
      "Epoch 2/4\n",
      "22380/22500 [============================>.] - ETA: 0s - loss: 0.3119 - acc: 0.8697Epoch 00001: loss did not improve\n",
      "22500/22500 [==============================] - 6s - loss: 0.3118 - acc: 0.8697     \n",
      "Epoch 3/4\n",
      "22380/22500 [============================>.] - ETA: 0s - loss: 0.2867 - acc: 0.8810Epoch 00002: loss did not improve\n",
      "22500/22500 [==============================] - 6s - loss: 0.2872 - acc: 0.8807     \n",
      "Epoch 4/4\n",
      "22380/22500 [============================>.] - ETA: 0s - loss: 0.2593 - acc: 0.8954Epoch 00003: loss improved from 0.26017 to 0.25945, saving model to ./weights_3.hdf5\n",
      "22500/22500 [==============================] - 8s - loss: 0.2595 - acc: 0.8953     \n",
      "2400/2500 [===========================>..] - ETA: 0sEpoch 1/4\n",
      "22380/22500 [============================>.] - ETA: 0s - loss: 0.4049 - acc: 0.8168Epoch 00000: loss did not improve\n",
      "22500/22500 [==============================] - 10s - loss: 0.4049 - acc: 0.8168    \n",
      "Epoch 2/4\n",
      "22380/22500 [============================>.] - ETA: 0s - loss: 0.3153 - acc: 0.8663Epoch 00001: loss did not improve\n",
      "22500/22500 [==============================] - 6s - loss: 0.3149 - acc: 0.8665     \n",
      "Epoch 3/4\n",
      "22380/22500 [============================>.] - ETA: 0s - loss: 0.2893 - acc: 0.8798Epoch 00002: loss did not improve\n",
      "22500/22500 [==============================] - 6s - loss: 0.2900 - acc: 0.8795     \n",
      "Epoch 4/4\n",
      "22380/22500 [============================>.] - ETA: 0s - loss: 0.2631 - acc: 0.8927Epoch 00003: loss did not improve\n",
      "22500/22500 [==============================] - 6s - loss: 0.2631 - acc: 0.8928     \n",
      "2400/2500 [===========================>..] - ETA: 0sEpoch 1/4\n",
      "22380/22500 [============================>.] - ETA: 0s - loss: 0.4024 - acc: 0.8184Epoch 00000: loss did not improve\n",
      "22500/22500 [==============================] - 10s - loss: 0.4026 - acc: 0.8184    \n",
      "Epoch 2/4\n",
      "22380/22500 [============================>.] - ETA: 0s - loss: 0.3148 - acc: 0.8674Epoch 00001: loss did not improve\n",
      "22500/22500 [==============================] - 6s - loss: 0.3144 - acc: 0.8676     \n",
      "Epoch 3/4\n",
      "22380/22500 [============================>.] - ETA: 0s - loss: 0.2863 - acc: 0.8802Epoch 00002: loss did not improve\n",
      "22500/22500 [==============================] - 7s - loss: 0.2863 - acc: 0.8803     \n",
      "Epoch 4/4\n",
      "22380/22500 [============================>.] - ETA: 0s - loss: 0.2588 - acc: 0.8953Epoch 00003: loss improved from 0.25945 to 0.25876, saving model to ./weights_3.hdf5\n",
      "22500/22500 [==============================] - 8s - loss: 0.2588 - acc: 0.8952     \n",
      "2280/2500 [==========================>...] - ETA: 0sEpoch 1/2\n",
      "22350/22500 [============================>.] - ETA: 0s - loss: 0.4067 - acc: 0.8182Epoch 00000: loss did not improve\n",
      "22500/22500 [==============================] - 9s - loss: 0.4063 - acc: 0.8184     \n",
      "Epoch 2/2\n",
      "22350/22500 [============================>.] - ETA: 0s - loss: 0.3154 - acc: 0.8671Epoch 00001: loss did not improve\n",
      "22500/22500 [==============================] - 5s - loss: 0.3154 - acc: 0.8670     \n",
      "2400/2500 [===========================>..] - ETA: 0sEpoch 1/2\n",
      "22350/22500 [============================>.] - ETA: 0s - loss: 0.4082 - acc: 0.8161Epoch 00000: loss did not improve\n",
      "22500/22500 [==============================] - 9s - loss: 0.4076 - acc: 0.8167     \n",
      "Epoch 2/2\n",
      "22350/22500 [============================>.] - ETA: 0s - loss: 0.3173 - acc: 0.8661Epoch 00001: loss did not improve\n",
      "22500/22500 [==============================] - 5s - loss: 0.3170 - acc: 0.8663     \n",
      "2250/2500 [==========================>...] - ETA: 0sEpoch 1/2\n",
      "22350/22500 [============================>.] - ETA: 0s - loss: 0.4116 - acc: 0.8168Epoch 00000: loss did not improve\n",
      "22500/22500 [==============================] - 9s - loss: 0.4110 - acc: 0.8171     \n",
      "Epoch 2/2\n",
      "22350/22500 [============================>.] - ETA: 0s - loss: 0.3197 - acc: 0.8654Epoch 00001: loss did not improve\n",
      "22500/22500 [==============================] - 5s - loss: 0.3195 - acc: 0.8656     \n",
      "2175/2500 [=========================>....] - ETA: 0sEpoch 1/2\n",
      "22350/22500 [============================>.] - ETA: 0s - loss: 0.4126 - acc: 0.8126Epoch 00000: loss did not improve\n",
      "22500/22500 [==============================] - 9s - loss: 0.4123 - acc: 0.8127     \n",
      "Epoch 2/2\n",
      "22350/22500 [============================>.] - ETA: 0s - loss: 0.3161 - acc: 0.8670Epoch 00001: loss did not improve\n",
      "22500/22500 [==============================] - 5s - loss: 0.3158 - acc: 0.8672     \n",
      "2100/2500 [========================>.....] - ETA: 0sEpoch 1/2\n",
      "22350/22500 [============================>.] - ETA: 0s - loss: 0.4109 - acc: 0.8152Epoch 00000: loss did not improve\n",
      "22500/22500 [==============================] - 9s - loss: 0.4106 - acc: 0.8152     \n",
      "Epoch 2/2\n",
      "22350/22500 [============================>.] - ETA: 0s - loss: 0.3144 - acc: 0.8677Epoch 00001: loss did not improve\n",
      "22500/22500 [==============================] - 5s - loss: 0.3145 - acc: 0.8676     \n",
      "2175/2500 [=========================>....] - ETA: 0sEpoch 1/2\n",
      "22350/22500 [============================>.] - ETA: 0s - loss: 0.4102 - acc: 0.8147Epoch 00000: loss did not improve\n",
      "22500/22500 [==============================] - 9s - loss: 0.4098 - acc: 0.8151     \n",
      "Epoch 2/2\n",
      "22350/22500 [============================>.] - ETA: 0s - loss: 0.3154 - acc: 0.8675Epoch 00001: loss did not improve\n",
      "22500/22500 [==============================] - 5s - loss: 0.3153 - acc: 0.8675     \n",
      "2250/2500 [==========================>...] - ETA: 0sEpoch 1/2\n",
      "22350/22500 [============================>.] - ETA: 0s - loss: 0.4069 - acc: 0.8156Epoch 00000: loss did not improve\n",
      "22500/22500 [==============================] - 9s - loss: 0.4061 - acc: 0.8161     \n",
      "Epoch 2/2\n",
      "22350/22500 [============================>.] - ETA: 0s - loss: 0.3160 - acc: 0.8670Epoch 00001: loss did not improve\n",
      "22500/22500 [==============================] - 5s - loss: 0.3161 - acc: 0.8669     \n"
     ]
    },
    {
     "name": "stdout",
     "output_type": "stream",
     "text": [
      "2325/2500 [==========================>...] - ETA: 0sEpoch 1/2\n",
      "22350/22500 [============================>.] - ETA: 0s - loss: 0.4110 - acc: 0.8115Epoch 00000: loss did not improve\n",
      "22500/22500 [==============================] - 9s - loss: 0.4108 - acc: 0.8118     \n",
      "Epoch 2/2\n",
      "22350/22500 [============================>.] - ETA: 0s - loss: 0.3162 - acc: 0.8667Epoch 00001: loss did not improve\n",
      "22500/22500 [==============================] - 5s - loss: 0.3168 - acc: 0.8664     \n",
      "2250/2500 [==========================>...] - ETA: 0sEpoch 1/2\n",
      "22350/22500 [============================>.] - ETA: 0s - loss: 0.4107 - acc: 0.8143Epoch 00000: loss did not improve\n",
      "22500/22500 [==============================] - 9s - loss: 0.4097 - acc: 0.8146     \n",
      "Epoch 2/2\n",
      "22350/22500 [============================>.] - ETA: 0s - loss: 0.3163 - acc: 0.8685Epoch 00001: loss did not improve\n",
      "22500/22500 [==============================] - 5s - loss: 0.3164 - acc: 0.8684     \n",
      "2250/2500 [==========================>...] - ETA: 0sEpoch 1/2\n",
      "22350/22500 [============================>.] - ETA: 0s - loss: 0.4089 - acc: 0.8111Epoch 00000: loss did not improve\n",
      "22500/22500 [==============================] - 9s - loss: 0.4079 - acc: 0.8117     \n",
      "Epoch 2/2\n",
      "22350/22500 [============================>.] - ETA: 0s - loss: 0.3156 - acc: 0.8657Epoch 00001: loss did not improve\n",
      "22500/22500 [==============================] - 5s - loss: 0.3155 - acc: 0.8656     \n",
      "2175/2500 [=========================>....] - ETA: 0sEpoch 1/3\n",
      "22350/22500 [============================>.] - ETA: 0s - loss: 0.4075 - acc: 0.8140Epoch 00000: loss did not improve\n",
      "22500/22500 [==============================] - 9s - loss: 0.4066 - acc: 0.8144     \n",
      "Epoch 2/3\n",
      "22350/22500 [============================>.] - ETA: 0s - loss: 0.3157 - acc: 0.8687Epoch 00001: loss did not improve\n",
      "22500/22500 [==============================] - 5s - loss: 0.3154 - acc: 0.8687     \n",
      "Epoch 3/3\n",
      "22350/22500 [============================>.] - ETA: 0s - loss: 0.2873 - acc: 0.8817Epoch 00002: loss did not improve\n",
      "22500/22500 [==============================] - 5s - loss: 0.2874 - acc: 0.8816     \n",
      "2250/2500 [==========================>...] - ETA: 0sEpoch 1/3\n",
      "22350/22500 [============================>.] - ETA: 0s - loss: 0.4096 - acc: 0.8138Epoch 00000: loss did not improve\n",
      "22500/22500 [==============================] - 9s - loss: 0.4088 - acc: 0.8141     \n",
      "Epoch 2/3\n",
      "22350/22500 [============================>.] - ETA: 0s - loss: 0.3151 - acc: 0.8682Epoch 00001: loss did not improve\n",
      "22500/22500 [==============================] - 5s - loss: 0.3150 - acc: 0.8681     \n",
      "Epoch 3/3\n",
      "22350/22500 [============================>.] - ETA: 0s - loss: 0.2878 - acc: 0.8804Epoch 00002: loss did not improve\n",
      "22500/22500 [==============================] - 5s - loss: 0.2876 - acc: 0.8804     \n",
      "2250/2500 [==========================>...] - ETA: 0sEpoch 1/3\n",
      "22350/22500 [============================>.] - ETA: 0s - loss: 0.4113 - acc: 0.8135Epoch 00000: loss did not improve\n",
      "22500/22500 [==============================] - 9s - loss: 0.4106 - acc: 0.8140     \n",
      "Epoch 2/3\n",
      "22350/22500 [============================>.] - ETA: 0s - loss: 0.3174 - acc: 0.8643Epoch 00001: loss did not improve\n",
      "22500/22500 [==============================] - 5s - loss: 0.3172 - acc: 0.8644     \n",
      "Epoch 3/3\n",
      "22350/22500 [============================>.] - ETA: 0s - loss: 0.2891 - acc: 0.8810Epoch 00002: loss did not improve\n",
      "22500/22500 [==============================] - 5s - loss: 0.2893 - acc: 0.8809     \n",
      "2250/2500 [==========================>...] - ETA: 0sEpoch 1/3\n",
      "22350/22500 [============================>.] - ETA: 0s - loss: 0.4135 - acc: 0.8091Epoch 00000: loss did not improve\n",
      "22500/22500 [==============================] - 9s - loss: 0.4136 - acc: 0.8088     \n",
      "Epoch 2/3\n",
      "22350/22500 [============================>.] - ETA: 0s - loss: 0.3179 - acc: 0.8672Epoch 00001: loss did not improve\n",
      "22500/22500 [==============================] - 5s - loss: 0.3180 - acc: 0.8671     \n",
      "Epoch 3/3\n",
      "22350/22500 [============================>.] - ETA: 0s - loss: 0.2896 - acc: 0.8804Epoch 00002: loss did not improve\n",
      "22500/22500 [==============================] - 5s - loss: 0.2899 - acc: 0.8802     \n",
      "2325/2500 [==========================>...] - ETA: 0sEpoch 1/3\n",
      "22350/22500 [============================>.] - ETA: 0s - loss: 0.4120 - acc: 0.8093Epoch 00000: loss did not improve\n",
      "22500/22500 [==============================] - 9s - loss: 0.4115 - acc: 0.8096     \n",
      "Epoch 2/3\n",
      "22350/22500 [============================>.] - ETA: 0s - loss: 0.3141 - acc: 0.8685Epoch 00001: loss did not improve\n",
      "22500/22500 [==============================] - 5s - loss: 0.3140 - acc: 0.8684     \n",
      "Epoch 3/3\n",
      "22350/22500 [============================>.] - ETA: 0s - loss: 0.2867 - acc: 0.8825Epoch 00002: loss did not improve\n",
      "22500/22500 [==============================] - 5s - loss: 0.2863 - acc: 0.8828     \n",
      "2175/2500 [=========================>....] - ETA: 0sEpoch 1/3\n",
      "22350/22500 [============================>.] - ETA: 0s - loss: 0.4107 - acc: 0.8114Epoch 00000: loss did not improve\n",
      "22500/22500 [==============================] - 9s - loss: 0.4103 - acc: 0.8117     \n",
      "Epoch 2/3\n",
      "22350/22500 [============================>.] - ETA: 0s - loss: 0.3160 - acc: 0.8677Epoch 00001: loss did not improve\n",
      "22500/22500 [==============================] - 5s - loss: 0.3163 - acc: 0.8679     \n",
      "Epoch 3/3\n",
      "22350/22500 [============================>.] - ETA: 0s - loss: 0.2907 - acc: 0.8770Epoch 00002: loss did not improve\n",
      "22500/22500 [==============================] - 5s - loss: 0.2903 - acc: 0.8772     \n",
      "2175/2500 [=========================>....] - ETA: 0sEpoch 1/3\n",
      "22350/22500 [============================>.] - ETA: 0s - loss: 0.4063 - acc: 0.8122Epoch 00000: loss did not improve\n",
      "22500/22500 [==============================] - 9s - loss: 0.4059 - acc: 0.8121     \n",
      "Epoch 2/3\n",
      "22350/22500 [============================>.] - ETA: 0s - loss: 0.3135 - acc: 0.8677Epoch 00001: loss did not improve\n",
      "22500/22500 [==============================] - 5s - loss: 0.3133 - acc: 0.8678     \n",
      "Epoch 3/3\n",
      "22350/22500 [============================>.] - ETA: 0s - loss: 0.2845 - acc: 0.8809Epoch 00002: loss did not improve\n",
      "22500/22500 [==============================] - 5s - loss: 0.2849 - acc: 0.8807     \n",
      "2100/2500 [========================>.....] - ETA: 0sEpoch 1/3\n",
      "22350/22500 [============================>.] - ETA: 0s - loss: 0.4105 - acc: 0.8124Epoch 00000: loss did not improve\n",
      "22500/22500 [==============================] - 9s - loss: 0.4095 - acc: 0.8130     \n",
      "Epoch 2/3\n",
      "22350/22500 [============================>.] - ETA: 0s - loss: 0.3177 - acc: 0.8662Epoch 00001: loss did not improve\n",
      "22500/22500 [==============================] - 5s - loss: 0.3180 - acc: 0.8660     \n",
      "Epoch 3/3\n",
      "22350/22500 [============================>.] - ETA: 0s - loss: 0.2914 - acc: 0.8784Epoch 00002: loss did not improve\n",
      "22500/22500 [==============================] - 5s - loss: 0.2912 - acc: 0.8784     \n",
      "2100/2500 [========================>.....] - ETA: 0sEpoch 1/3\n",
      "22350/22500 [============================>.] - ETA: 0s - loss: 0.4119 - acc: 0.8153Epoch 00000: loss did not improve\n",
      "22500/22500 [==============================] - 9s - loss: 0.4114 - acc: 0.8155     \n",
      "Epoch 2/3\n",
      "22350/22500 [============================>.] - ETA: 0s - loss: 0.3192 - acc: 0.8649Epoch 00001: loss did not improve\n",
      "22500/22500 [==============================] - 5s - loss: 0.3194 - acc: 0.8647     \n",
      "Epoch 3/3\n",
      "22350/22500 [============================>.] - ETA: 0s - loss: 0.2904 - acc: 0.8791Epoch 00002: loss did not improve\n",
      "22500/22500 [==============================] - 5s - loss: 0.2905 - acc: 0.8792     \n",
      "2175/2500 [=========================>....] - ETA: 0sEpoch 1/3\n",
      "22350/22500 [============================>.] - ETA: 0s - loss: 0.4111 - acc: 0.8107Epoch 00000: loss did not improve\n",
      "22500/22500 [==============================] - 9s - loss: 0.4108 - acc: 0.8108     \n",
      "Epoch 2/3\n",
      "22350/22500 [============================>.] - ETA: 0s - loss: 0.3171 - acc: 0.8656Epoch 00001: loss did not improve\n",
      "22500/22500 [==============================] - 5s - loss: 0.3172 - acc: 0.8656     \n",
      "Epoch 3/3\n",
      "22350/22500 [============================>.] - ETA: 0s - loss: 0.2884 - acc: 0.8806Epoch 00002: loss did not improve\n"
     ]
    },
    {
     "name": "stdout",
     "output_type": "stream",
     "text": [
      "22500/22500 [==============================] - 5s - loss: 0.2881 - acc: 0.8808     \n",
      "2250/2500 [==========================>...] - ETA: 0sEpoch 1/4\n",
      "22350/22500 [============================>.] - ETA: 0s - loss: 0.4058 - acc: 0.8157Epoch 00000: loss did not improve\n",
      "22500/22500 [==============================] - 9s - loss: 0.4058 - acc: 0.8156     \n",
      "Epoch 2/4\n",
      "22350/22500 [============================>.] - ETA: 0s - loss: 0.3163 - acc: 0.8660Epoch 00001: loss did not improve\n",
      "22500/22500 [==============================] - 5s - loss: 0.3157 - acc: 0.8664     \n",
      "Epoch 3/4\n",
      "22350/22500 [============================>.] - ETA: 0s - loss: 0.2859 - acc: 0.8795Epoch 00002: loss did not improve\n",
      "22500/22500 [==============================] - 5s - loss: 0.2860 - acc: 0.8794     \n",
      "Epoch 4/4\n",
      "22350/22500 [============================>.] - ETA: 0s - loss: 0.2609 - acc: 0.8936Epoch 00003: loss did not improve\n",
      "22500/22500 [==============================] - 5s - loss: 0.2610 - acc: 0.8933     \n",
      "2175/2500 [=========================>....] - ETA: 0sEpoch 1/4\n",
      "22350/22500 [============================>.] - ETA: 0s - loss: 0.4112 - acc: 0.8111Epoch 00000: loss did not improve\n",
      "22500/22500 [==============================] - 9s - loss: 0.4107 - acc: 0.8117     \n",
      "Epoch 2/4\n",
      "22350/22500 [============================>.] - ETA: 0s - loss: 0.3147 - acc: 0.8678Epoch 00001: loss did not improve\n",
      "22500/22500 [==============================] - 5s - loss: 0.3152 - acc: 0.8677     \n",
      "Epoch 3/4\n",
      "22350/22500 [============================>.] - ETA: 0s - loss: 0.2890 - acc: 0.8815Epoch 00002: loss did not improve\n",
      "22500/22500 [==============================] - 5s - loss: 0.2889 - acc: 0.8815     \n",
      "Epoch 4/4\n",
      "22350/22500 [============================>.] - ETA: 0s - loss: 0.2640 - acc: 0.8924Epoch 00003: loss did not improve\n",
      "22500/22500 [==============================] - 5s - loss: 0.2639 - acc: 0.8924     \n",
      "2175/2500 [=========================>....] - ETA: 0sEpoch 1/4\n",
      "22350/22500 [============================>.] - ETA: 0s - loss: 0.4105 - acc: 0.8123Epoch 00000: loss did not improve\n",
      "22500/22500 [==============================] - 9s - loss: 0.4099 - acc: 0.8126     \n",
      "Epoch 2/4\n",
      "22350/22500 [============================>.] - ETA: 0s - loss: 0.3151 - acc: 0.8677Epoch 00001: loss did not improve\n",
      "22500/22500 [==============================] - 5s - loss: 0.3148 - acc: 0.8679     \n",
      "Epoch 3/4\n",
      "22350/22500 [============================>.] - ETA: 0s - loss: 0.2901 - acc: 0.8806Epoch 00002: loss did not improve\n",
      "22500/22500 [==============================] - 5s - loss: 0.2900 - acc: 0.8807     \n",
      "Epoch 4/4\n",
      "22350/22500 [============================>.] - ETA: 0s - loss: 0.2652 - acc: 0.8909Epoch 00003: loss did not improve\n",
      "22500/22500 [==============================] - 5s - loss: 0.2657 - acc: 0.8907     \n",
      "2250/2500 [==========================>...] - ETA: 0sEpoch 1/4\n",
      "22350/22500 [============================>.] - ETA: 0s - loss: 0.4095 - acc: 0.8141Epoch 00000: loss did not improve\n",
      "22500/22500 [==============================] - 9s - loss: 0.4102 - acc: 0.8141     \n",
      "Epoch 2/4\n",
      "22350/22500 [============================>.] - ETA: 0s - loss: 0.3217 - acc: 0.8645Epoch 00001: loss did not improve\n",
      "22500/22500 [==============================] - 6s - loss: 0.3222 - acc: 0.8643     \n",
      "Epoch 3/4\n",
      "22350/22500 [============================>.] - ETA: 0s - loss: 0.2906 - acc: 0.8803Epoch 00002: loss did not improve\n",
      "22500/22500 [==============================] - 6s - loss: 0.2905 - acc: 0.8804     \n",
      "Epoch 4/4\n",
      "22350/22500 [============================>.] - ETA: 0s - loss: 0.2670 - acc: 0.8901Epoch 00003: loss did not improve\n",
      "22500/22500 [==============================] - 6s - loss: 0.2672 - acc: 0.8900     \n",
      "2175/2500 [=========================>....] - ETA: 0sEpoch 1/4\n",
      "22350/22500 [============================>.] - ETA: 0s - loss: 0.4133 - acc: 0.8055Epoch 00000: loss did not improve\n",
      "22500/22500 [==============================] - 9s - loss: 0.4124 - acc: 0.8062     \n",
      "Epoch 2/4\n",
      "22350/22500 [============================>.] - ETA: 0s - loss: 0.3141 - acc: 0.8684Epoch 00001: loss did not improve\n",
      "22500/22500 [==============================] - 6s - loss: 0.3141 - acc: 0.8684     \n",
      "Epoch 3/4\n",
      "22350/22500 [============================>.] - ETA: 0s - loss: 0.2883 - acc: 0.8782Epoch 00002: loss did not improve\n",
      "22500/22500 [==============================] - 6s - loss: 0.2880 - acc: 0.8784     \n",
      "Epoch 4/4\n",
      "22350/22500 [============================>.] - ETA: 0s - loss: 0.2625 - acc: 0.8916Epoch 00003: loss did not improve\n",
      "22500/22500 [==============================] - 6s - loss: 0.2624 - acc: 0.8917     \n",
      "2175/2500 [=========================>....] - ETA: 0sEpoch 1/4\n",
      "22350/22500 [============================>.] - ETA: 0s - loss: 0.4108 - acc: 0.8102Epoch 00000: loss did not improve\n",
      "22500/22500 [==============================] - 9s - loss: 0.4109 - acc: 0.8101     \n",
      "Epoch 2/4\n",
      "22350/22500 [============================>.] - ETA: 0s - loss: 0.3176 - acc: 0.8660Epoch 00001: loss did not improve\n",
      "22500/22500 [==============================] - 5s - loss: 0.3174 - acc: 0.8660     \n",
      "Epoch 3/4\n",
      "22350/22500 [============================>.] - ETA: 0s - loss: 0.2862 - acc: 0.8803Epoch 00002: loss did not improve\n",
      "22500/22500 [==============================] - 5s - loss: 0.2856 - acc: 0.8806     \n",
      "Epoch 4/4\n",
      "22350/22500 [============================>.] - ETA: 0s - loss: 0.2617 - acc: 0.8920Epoch 00003: loss did not improve\n",
      "22500/22500 [==============================] - 5s - loss: 0.2621 - acc: 0.8916     \n",
      "2175/2500 [=========================>....] - ETA: 0sEpoch 1/4\n",
      "22350/22500 [============================>.] - ETA: 0s - loss: 0.4068 - acc: 0.8166Epoch 00000: loss did not improve\n",
      "22500/22500 [==============================] - 9s - loss: 0.4064 - acc: 0.8169     \n",
      "Epoch 2/4\n",
      "22350/22500 [============================>.] - ETA: 0s - loss: 0.3135 - acc: 0.8686Epoch 00001: loss did not improve\n",
      "22500/22500 [==============================] - 5s - loss: 0.3134 - acc: 0.8687     \n",
      "Epoch 3/4\n",
      "22350/22500 [============================>.] - ETA: 0s - loss: 0.2878 - acc: 0.8805Epoch 00002: loss did not improve\n",
      "22500/22500 [==============================] - 5s - loss: 0.2873 - acc: 0.8808     \n",
      "Epoch 4/4\n",
      "22350/22500 [============================>.] - ETA: 0s - loss: 0.2623 - acc: 0.8912Epoch 00003: loss did not improve\n",
      "22500/22500 [==============================] - 5s - loss: 0.2626 - acc: 0.8911     \n",
      "2175/2500 [=========================>....] - ETA: 0sEpoch 1/4\n",
      "22350/22500 [============================>.] - ETA: 0s - loss: 0.4119 - acc: 0.8112Epoch 00000: loss did not improve\n",
      "22500/22500 [==============================] - 9s - loss: 0.4117 - acc: 0.8114     \n",
      "Epoch 2/4\n",
      "22350/22500 [============================>.] - ETA: 0s - loss: 0.3188 - acc: 0.8654Epoch 00001: loss did not improve\n",
      "22500/22500 [==============================] - 5s - loss: 0.3192 - acc: 0.8651     \n",
      "Epoch 3/4\n",
      "22350/22500 [============================>.] - ETA: 0s - loss: 0.2920 - acc: 0.8780Epoch 00002: loss did not improve\n",
      "22500/22500 [==============================] - 5s - loss: 0.2916 - acc: 0.8782     \n",
      "Epoch 4/4\n",
      "22350/22500 [============================>.] - ETA: 0s - loss: 0.2638 - acc: 0.8917Epoch 00003: loss did not improve\n",
      "22500/22500 [==============================] - 5s - loss: 0.2636 - acc: 0.8918     \n",
      "2175/2500 [=========================>....] - ETA: 0sEpoch 1/4\n",
      "22350/22500 [============================>.] - ETA: 0s - loss: 0.4099 - acc: 0.8138Epoch 00000: loss did not improve\n",
      "22500/22500 [==============================] - 9s - loss: 0.4094 - acc: 0.8141     \n",
      "Epoch 2/4\n",
      "22350/22500 [============================>.] - ETA: 0s - loss: 0.3192 - acc: 0.8664Epoch 00001: loss did not improve\n",
      "22500/22500 [==============================] - 5s - loss: 0.3193 - acc: 0.8663     \n",
      "Epoch 3/4\n",
      "22350/22500 [============================>.] - ETA: 0s - loss: 0.2911 - acc: 0.8786Epoch 00002: loss did not improve\n",
      "22500/22500 [==============================] - 5s - loss: 0.2912 - acc: 0.8786     \n",
      "Epoch 4/4\n",
      "22350/22500 [============================>.] - ETA: 0s - loss: 0.2666 - acc: 0.8895Epoch 00003: loss did not improve\n",
      "22500/22500 [==============================] - 5s - loss: 0.2664 - acc: 0.8897     \n"
     ]
    },
    {
     "name": "stdout",
     "output_type": "stream",
     "text": [
      "2250/2500 [==========================>...] - ETA: 0sEpoch 1/4\n",
      "22350/22500 [============================>.] - ETA: 0s - loss: 0.4080 - acc: 0.8159Epoch 00000: loss did not improve\n",
      "22500/22500 [==============================] - 9s - loss: 0.4077 - acc: 0.8160     \n",
      "Epoch 2/4\n",
      "22350/22500 [============================>.] - ETA: 0s - loss: 0.3132 - acc: 0.8670Epoch 00001: loss did not improve\n",
      "22500/22500 [==============================] - 5s - loss: 0.3128 - acc: 0.8672     \n",
      "Epoch 3/4\n",
      "22350/22500 [============================>.] - ETA: 0s - loss: 0.2870 - acc: 0.8799Epoch 00002: loss did not improve\n",
      "22500/22500 [==============================] - 5s - loss: 0.2867 - acc: 0.8801     \n",
      "Epoch 4/4\n",
      "22350/22500 [============================>.] - ETA: 0s - loss: 0.2623 - acc: 0.8902Epoch 00003: loss did not improve\n",
      "22500/22500 [==============================] - 5s - loss: 0.2623 - acc: 0.8901     \n",
      "2175/2500 [=========================>....] - ETA: 0sEpoch 1/2\n",
      "22230/22500 [============================>.] - ETA: 0s - loss: 0.4146 - acc: 0.8116Epoch 00000: loss did not improve\n",
      "22500/22500 [==============================] - 8s - loss: 0.4141 - acc: 0.8118     \n",
      "Epoch 2/2\n",
      "22230/22500 [============================>.] - ETA: 0s - loss: 0.3145 - acc: 0.8675Epoch 00001: loss did not improve\n",
      "22500/22500 [==============================] - 4s - loss: 0.3146 - acc: 0.8674     \n",
      "2500/2500 [==============================] - 3s     \n",
      "Epoch 1/2\n",
      "22230/22500 [============================>.] - ETA: 0s - loss: 0.4142 - acc: 0.8115Epoch 00000: loss did not improve\n",
      "22500/22500 [==============================] - 9s - loss: 0.4127 - acc: 0.8124     \n",
      "Epoch 2/2\n",
      "22230/22500 [============================>.] - ETA: 0s - loss: 0.3168 - acc: 0.8682Epoch 00001: loss did not improve\n",
      "22500/22500 [==============================] - 5s - loss: 0.3163 - acc: 0.8684     \n",
      "1980/2500 [======================>.......] - ETA: 0sEpoch 1/2\n",
      "22230/22500 [============================>.] - ETA: 0s - loss: 0.4126 - acc: 0.8118Epoch 00000: loss did not improve\n",
      "22500/22500 [==============================] - 8s - loss: 0.4114 - acc: 0.8126     \n",
      "Epoch 2/2\n",
      "22230/22500 [============================>.] - ETA: 0s - loss: 0.3144 - acc: 0.8698Epoch 00001: loss did not improve\n",
      "22500/22500 [==============================] - 4s - loss: 0.3139 - acc: 0.8700     \n",
      "1980/2500 [======================>.......] - ETA: 0sEpoch 1/2\n",
      "22230/22500 [============================>.] - ETA: 0s - loss: 0.4143 - acc: 0.8095Epoch 00000: loss did not improve\n",
      "22500/22500 [==============================] - 9s - loss: 0.4132 - acc: 0.8102     \n",
      "Epoch 2/2\n",
      "22230/22500 [============================>.] - ETA: 0s - loss: 0.3175 - acc: 0.8664Epoch 00001: loss did not improve\n",
      "22500/22500 [==============================] - 5s - loss: 0.3174 - acc: 0.8665     \n",
      "1980/2500 [======================>.......] - ETA: 0sEpoch 1/2\n",
      "22230/22500 [============================>.] - ETA: 0s - loss: 0.4141 - acc: 0.8084Epoch 00000: loss did not improve\n",
      "22500/22500 [==============================] - 8s - loss: 0.4133 - acc: 0.8090     \n",
      "Epoch 2/2\n",
      "22230/22500 [============================>.] - ETA: 0s - loss: 0.3135 - acc: 0.8696Epoch 00001: loss did not improve\n",
      "22500/22500 [==============================] - 4s - loss: 0.3141 - acc: 0.8695     \n",
      "1980/2500 [======================>.......] - ETA: 0sEpoch 1/2\n",
      "22230/22500 [============================>.] - ETA: 0s - loss: 0.4170 - acc: 0.8081Epoch 00000: loss did not improve\n",
      "22500/22500 [==============================] - 8s - loss: 0.4164 - acc: 0.8084     \n",
      "Epoch 2/2\n",
      "22230/22500 [============================>.] - ETA: 0s - loss: 0.3160 - acc: 0.8656Epoch 00001: loss did not improve\n",
      "22500/22500 [==============================] - 5s - loss: 0.3154 - acc: 0.8658     \n",
      "1980/2500 [======================>.......] - ETA: 0sEpoch 1/2\n",
      "22230/22500 [============================>.] - ETA: 0s - loss: 0.4106 - acc: 0.8131Epoch 00000: loss did not improve\n",
      "22500/22500 [==============================] - 9s - loss: 0.4095 - acc: 0.8136     \n",
      "Epoch 2/2\n",
      "22230/22500 [============================>.] - ETA: 0s - loss: 0.3134 - acc: 0.8687Epoch 00001: loss did not improve\n",
      "22500/22500 [==============================] - 5s - loss: 0.3133 - acc: 0.8687     \n",
      "1980/2500 [======================>.......] - ETA: 0sEpoch 1/2\n",
      "22230/22500 [============================>.] - ETA: 0s - loss: 0.4160 - acc: 0.8050Epoch 00000: loss did not improve\n",
      "22500/22500 [==============================] - 8s - loss: 0.4146 - acc: 0.8056     \n",
      "Epoch 2/2\n",
      "22230/22500 [============================>.] - ETA: 0s - loss: 0.3177 - acc: 0.8662Epoch 00001: loss did not improve\n",
      "22500/22500 [==============================] - 5s - loss: 0.3171 - acc: 0.8664     \n",
      "1980/2500 [======================>.......] - ETA: 0sEpoch 1/2\n",
      "22230/22500 [============================>.] - ETA: 0s - loss: 0.4186 - acc: 0.8068Epoch 00000: loss did not improve\n",
      "22500/22500 [==============================] - 9s - loss: 0.4182 - acc: 0.8071     \n",
      "Epoch 2/2\n",
      "22230/22500 [============================>.] - ETA: 0s - loss: 0.3172 - acc: 0.8647Epoch 00001: loss did not improve\n",
      "22500/22500 [==============================] - 5s - loss: 0.3178 - acc: 0.8644     \n",
      "1980/2500 [======================>.......] - ETA: 0sEpoch 1/2\n",
      "22230/22500 [============================>.] - ETA: 0s - loss: 0.4154 - acc: 0.8107Epoch 00000: loss did not improve\n",
      "22500/22500 [==============================] - 9s - loss: 0.4145 - acc: 0.8112     \n",
      "Epoch 2/2\n",
      "22230/22500 [============================>.] - ETA: 0s - loss: 0.3137 - acc: 0.8681Epoch 00001: loss did not improve\n",
      "22500/22500 [==============================] - 5s - loss: 0.3140 - acc: 0.8676     \n",
      "2500/2500 [==============================] - 3s     \n",
      "Epoch 1/3\n",
      "22230/22500 [============================>.] - ETA: 0s - loss: 0.4132 - acc: 0.8129Epoch 00000: loss did not improve\n",
      "22500/22500 [==============================] - 8s - loss: 0.4127 - acc: 0.8130     \n",
      "Epoch 2/3\n",
      "22230/22500 [============================>.] - ETA: 0s - loss: 0.3146 - acc: 0.8679Epoch 00001: loss did not improve\n",
      "22500/22500 [==============================] - 4s - loss: 0.3144 - acc: 0.8676     \n",
      "Epoch 3/3\n",
      "22230/22500 [============================>.] - ETA: 0s - loss: 0.2880 - acc: 0.8796Epoch 00002: loss did not improve\n",
      "22500/22500 [==============================] - 4s - loss: 0.2882 - acc: 0.8795     \n",
      "1980/2500 [======================>.......] - ETA: 0sEpoch 1/3\n",
      "22230/22500 [============================>.] - ETA: 0s - loss: 0.4155 - acc: 0.8094Epoch 00000: loss did not improve\n",
      "22500/22500 [==============================] - 8s - loss: 0.4147 - acc: 0.8101     \n",
      "Epoch 2/3\n",
      "22230/22500 [============================>.] - ETA: 0s - loss: 0.3159 - acc: 0.8674Epoch 00001: loss did not improve\n",
      "22500/22500 [==============================] - 4s - loss: 0.3159 - acc: 0.8672     \n",
      "Epoch 3/3\n",
      "22230/22500 [============================>.] - ETA: 0s - loss: 0.2885 - acc: 0.8802Epoch 00002: loss did not improve\n",
      "22500/22500 [==============================] - 4s - loss: 0.2889 - acc: 0.8802     \n",
      "2500/2500 [==============================] - 3s     \n",
      "Epoch 1/3\n",
      "22230/22500 [============================>.] - ETA: 0s - loss: 0.4163 - acc: 0.8087Epoch 00000: loss did not improve\n",
      "22500/22500 [==============================] - 9s - loss: 0.4161 - acc: 0.8088     \n",
      "Epoch 2/3\n",
      "22230/22500 [============================>.] - ETA: 0s - loss: 0.3180 - acc: 0.8659Epoch 00001: loss did not improve\n",
      "22500/22500 [==============================] - 5s - loss: 0.3177 - acc: 0.8660     \n",
      "Epoch 3/3\n",
      "22230/22500 [============================>.] - ETA: 0s - loss: 0.2872 - acc: 0.8806Epoch 00002: loss did not improve\n",
      "22500/22500 [==============================] - 5s - loss: 0.2871 - acc: 0.8808     \n",
      "2430/2500 [============================>.] - ETA: 0sEpoch 1/3\n",
      "22230/22500 [============================>.] - ETA: 0s - loss: 0.4120 - acc: 0.8125Epoch 00000: loss did not improve\n",
      "22500/22500 [==============================] - 9s - loss: 0.4119 - acc: 0.8126     \n",
      "Epoch 2/3\n",
      "22230/22500 [============================>.] - ETA: 0s - loss: 0.3180 - acc: 0.8667Epoch 00001: loss did not improve\n",
      "22500/22500 [==============================] - 5s - loss: 0.3181 - acc: 0.8665     \n",
      "Epoch 3/3\n"
     ]
    },
    {
     "name": "stdout",
     "output_type": "stream",
     "text": [
      "22230/22500 [============================>.] - ETA: 0s - loss: 0.2913 - acc: 0.8793Epoch 00002: loss did not improve\n",
      "22500/22500 [==============================] - 5s - loss: 0.2917 - acc: 0.8789     \n",
      "2500/2500 [==============================] - 3s     \n",
      "Epoch 1/3\n",
      "22230/22500 [============================>.] - ETA: 0s - loss: 0.4130 - acc: 0.8121Epoch 00000: loss did not improve\n",
      "22500/22500 [==============================] - 9s - loss: 0.4119 - acc: 0.8129     \n",
      "Epoch 2/3\n",
      "22230/22500 [============================>.] - ETA: 0s - loss: 0.3133 - acc: 0.8682Epoch 00001: loss did not improve\n",
      "22500/22500 [==============================] - 5s - loss: 0.3130 - acc: 0.8681     \n",
      "Epoch 3/3\n",
      "22230/22500 [============================>.] - ETA: 0s - loss: 0.2858 - acc: 0.8801Epoch 00002: loss did not improve\n",
      "22500/22500 [==============================] - 5s - loss: 0.2857 - acc: 0.8802     \n",
      "2430/2500 [============================>.] - ETA: 0sEpoch 1/3\n",
      "22230/22500 [============================>.] - ETA: 0s - loss: 0.4125 - acc: 0.8121Epoch 00000: loss did not improve\n",
      "22500/22500 [==============================] - 9s - loss: 0.4115 - acc: 0.8126     \n",
      "Epoch 2/3\n",
      "22230/22500 [============================>.] - ETA: 0s - loss: 0.3161 - acc: 0.8695Epoch 00001: loss did not improve\n",
      "22500/22500 [==============================] - 5s - loss: 0.3163 - acc: 0.8694     \n",
      "Epoch 3/3\n",
      "22230/22500 [============================>.] - ETA: 0s - loss: 0.2897 - acc: 0.8799Epoch 00002: loss did not improve\n",
      "22500/22500 [==============================] - 5s - loss: 0.2892 - acc: 0.8801     \n",
      "2500/2500 [==============================] - 3s     \n",
      "Epoch 1/3\n",
      "22230/22500 [============================>.] - ETA: 0s - loss: 0.4145 - acc: 0.8085Epoch 00000: loss did not improve\n",
      "22500/22500 [==============================] - 9s - loss: 0.4141 - acc: 0.8088     \n",
      "Epoch 2/3\n",
      "22230/22500 [============================>.] - ETA: 0s - loss: 0.3159 - acc: 0.8648Epoch 00001: loss did not improve\n",
      "22500/22500 [==============================] - 5s - loss: 0.3158 - acc: 0.8649     \n",
      "Epoch 3/3\n",
      "22230/22500 [============================>.] - ETA: 0s - loss: 0.2898 - acc: 0.8783Epoch 00002: loss did not improve\n",
      "22500/22500 [==============================] - 5s - loss: 0.2892 - acc: 0.8786     \n",
      "2500/2500 [==============================] - 3s     \n",
      "Epoch 1/3\n",
      "22230/22500 [============================>.] - ETA: 0s - loss: 0.4167 - acc: 0.8088Epoch 00000: loss did not improve\n",
      "22500/22500 [==============================] - 9s - loss: 0.4157 - acc: 0.8094     \n",
      "Epoch 2/3\n",
      "22230/22500 [============================>.] - ETA: 0s - loss: 0.3196 - acc: 0.8631Epoch 00001: loss did not improve\n",
      "22500/22500 [==============================] - 5s - loss: 0.3199 - acc: 0.8629     \n",
      "Epoch 3/3\n",
      "22230/22500 [============================>.] - ETA: 0s - loss: 0.2914 - acc: 0.8792Epoch 00002: loss did not improve\n",
      "22500/22500 [==============================] - 5s - loss: 0.2909 - acc: 0.8792     \n",
      "2430/2500 [============================>.] - ETA: 0sEpoch 1/3\n",
      "22230/22500 [============================>.] - ETA: 0s - loss: 0.4176 - acc: 0.8111Epoch 00000: loss did not improve\n",
      "22500/22500 [==============================] - 9s - loss: 0.4171 - acc: 0.8112     \n",
      "Epoch 2/3\n",
      "22230/22500 [============================>.] - ETA: 0s - loss: 0.3166 - acc: 0.8664Epoch 00001: loss did not improve\n",
      "22500/22500 [==============================] - 5s - loss: 0.3173 - acc: 0.8660     \n",
      "Epoch 3/3\n",
      "22230/22500 [============================>.] - ETA: 0s - loss: 0.2902 - acc: 0.8780Epoch 00002: loss did not improve\n",
      "22500/22500 [==============================] - 5s - loss: 0.2901 - acc: 0.8779     \n",
      "1980/2500 [======================>.......] - ETA: 0sEpoch 1/3\n",
      "22230/22500 [============================>.] - ETA: 0s - loss: 0.4143 - acc: 0.8118Epoch 00000: loss did not improve\n",
      "22500/22500 [==============================] - 9s - loss: 0.4135 - acc: 0.8122     \n",
      "Epoch 2/3\n",
      "22230/22500 [============================>.] - ETA: 0s - loss: 0.3182 - acc: 0.8664Epoch 00001: loss did not improve\n",
      "22500/22500 [==============================] - 5s - loss: 0.3178 - acc: 0.8667     \n",
      "Epoch 3/3\n",
      "22230/22500 [============================>.] - ETA: 0s - loss: 0.2896 - acc: 0.8794Epoch 00002: loss did not improve\n",
      "22500/22500 [==============================] - 5s - loss: 0.2895 - acc: 0.8795     \n",
      "1980/2500 [======================>.......] - ETA: 0sEpoch 1/4\n",
      "22230/22500 [============================>.] - ETA: 0s - loss: 0.4116 - acc: 0.8105Epoch 00000: loss did not improve\n",
      "22500/22500 [==============================] - 9s - loss: 0.4105 - acc: 0.8114     \n",
      "Epoch 2/4\n",
      "22230/22500 [============================>.] - ETA: 0s - loss: 0.3169 - acc: 0.8664Epoch 00001: loss did not improve\n",
      "22500/22500 [==============================] - 5s - loss: 0.3163 - acc: 0.8666     \n",
      "Epoch 3/4\n",
      "22230/22500 [============================>.] - ETA: 0s - loss: 0.2882 - acc: 0.8809Epoch 00002: loss did not improve\n",
      "22500/22500 [==============================] - 5s - loss: 0.2878 - acc: 0.8812     \n",
      "Epoch 4/4\n",
      "22230/22500 [============================>.] - ETA: 0s - loss: 0.2628 - acc: 0.8924Epoch 00003: loss did not improve\n",
      "22500/22500 [==============================] - 5s - loss: 0.2626 - acc: 0.8925     \n",
      "2500/2500 [==============================] - 3s     \n",
      "Epoch 1/4\n",
      "22230/22500 [============================>.] - ETA: 0s - loss: 0.4115 - acc: 0.8132Epoch 00000: loss did not improve\n",
      "22500/22500 [==============================] - 9s - loss: 0.4105 - acc: 0.8139     \n",
      "Epoch 2/4\n",
      "22230/22500 [============================>.] - ETA: 0s - loss: 0.3139 - acc: 0.8687Epoch 00001: loss did not improve\n",
      "22500/22500 [==============================] - 5s - loss: 0.3141 - acc: 0.8686     \n",
      "Epoch 3/4\n",
      "22230/22500 [============================>.] - ETA: 0s - loss: 0.2881 - acc: 0.8786Epoch 00002: loss did not improve\n",
      "22500/22500 [==============================] - 5s - loss: 0.2886 - acc: 0.8784     \n",
      "Epoch 4/4\n",
      "22230/22500 [============================>.] - ETA: 0s - loss: 0.2643 - acc: 0.8918Epoch 00003: loss did not improve\n",
      "22500/22500 [==============================] - 5s - loss: 0.2638 - acc: 0.8920     \n",
      "2500/2500 [==============================] - 3s     \n",
      "Epoch 1/4\n",
      "22230/22500 [============================>.] - ETA: 0s - loss: 0.4091 - acc: 0.8141Epoch 00000: loss did not improve\n",
      "22500/22500 [==============================] - 9s - loss: 0.4092 - acc: 0.8142     \n",
      "Epoch 2/4\n",
      "22230/22500 [============================>.] - ETA: 0s - loss: 0.3148 - acc: 0.8690Epoch 00001: loss did not improve\n",
      "22500/22500 [==============================] - 5s - loss: 0.3151 - acc: 0.8687     \n",
      "Epoch 3/4\n",
      "22230/22500 [============================>.] - ETA: 0s - loss: 0.2891 - acc: 0.8784Epoch 00002: loss did not improve\n",
      "22500/22500 [==============================] - 5s - loss: 0.2891 - acc: 0.8784     \n",
      "Epoch 4/4\n",
      "22230/22500 [============================>.] - ETA: 0s - loss: 0.2639 - acc: 0.8934Epoch 00003: loss did not improve\n",
      "22500/22500 [==============================] - 5s - loss: 0.2645 - acc: 0.8932     \n",
      "2500/2500 [==============================] - 3s     \n",
      "Epoch 1/4\n",
      "22230/22500 [============================>.] - ETA: 0s - loss: 0.4171 - acc: 0.8077Epoch 00000: loss did not improve\n",
      "22500/22500 [==============================] - 9s - loss: 0.4165 - acc: 0.8080     \n",
      "Epoch 2/4\n",
      "22230/22500 [============================>.] - ETA: 0s - loss: 0.3195 - acc: 0.8649Epoch 00001: loss did not improve\n",
      "22500/22500 [==============================] - 5s - loss: 0.3192 - acc: 0.8652     \n",
      "Epoch 3/4\n",
      "22230/22500 [============================>.] - ETA: 0s - loss: 0.2884 - acc: 0.8815Epoch 00002: loss did not improve\n",
      "22500/22500 [==============================] - 5s - loss: 0.2890 - acc: 0.8813     \n",
      "Epoch 4/4\n",
      "22230/22500 [============================>.] - ETA: 0s - loss: 0.2632 - acc: 0.8911Epoch 00003: loss did not improve\n",
      "22500/22500 [==============================] - 5s - loss: 0.2628 - acc: 0.8912     \n",
      "2340/2500 [===========================>..] - ETA: 0sEpoch 1/4\n",
      "22230/22500 [============================>.] - ETA: 0s - loss: 0.4131 - acc: 0.8082Epoch 00000: loss did not improve\n",
      "22500/22500 [==============================] - 9s - loss: 0.4121 - acc: 0.8086     \n",
      "Epoch 2/4\n"
     ]
    },
    {
     "name": "stdout",
     "output_type": "stream",
     "text": [
      "22230/22500 [============================>.] - ETA: 0s - loss: 0.3161 - acc: 0.8667Epoch 00001: loss did not improve\n",
      "22500/22500 [==============================] - 5s - loss: 0.3151 - acc: 0.8670     \n",
      "Epoch 3/4\n",
      "22230/22500 [============================>.] - ETA: 0s - loss: 0.2852 - acc: 0.8803Epoch 00002: loss did not improve\n",
      "22500/22500 [==============================] - 5s - loss: 0.2855 - acc: 0.8802     \n",
      "Epoch 4/4\n",
      "22230/22500 [============================>.] - ETA: 0s - loss: 0.2605 - acc: 0.8925Epoch 00003: loss did not improve\n",
      "22500/22500 [==============================] - 5s - loss: 0.2598 - acc: 0.8930     \n",
      "2500/2500 [==============================] - 3s     \n",
      "Epoch 1/4\n",
      "22230/22500 [============================>.] - ETA: 0s - loss: 0.4156 - acc: 0.8094Epoch 00000: loss did not improve\n",
      "22500/22500 [==============================] - 9s - loss: 0.4148 - acc: 0.8100     \n",
      "Epoch 2/4\n",
      "22230/22500 [============================>.] - ETA: 0s - loss: 0.3167 - acc: 0.8675Epoch 00001: loss did not improve\n",
      "22500/22500 [==============================] - 5s - loss: 0.3165 - acc: 0.8676     \n",
      "Epoch 3/4\n",
      "22230/22500 [============================>.] - ETA: 0s - loss: 0.2909 - acc: 0.8787Epoch 00002: loss did not improve\n",
      "22500/22500 [==============================] - 5s - loss: 0.2910 - acc: 0.8787     \n",
      "Epoch 4/4\n",
      "22230/22500 [============================>.] - ETA: 0s - loss: 0.2641 - acc: 0.8937Epoch 00003: loss did not improve\n",
      "22500/22500 [==============================] - 5s - loss: 0.2642 - acc: 0.8935     \n",
      "2500/2500 [==============================] - 3s     \n",
      "Epoch 1/4\n",
      "22230/22500 [============================>.] - ETA: 0s - loss: 0.4139 - acc: 0.8106Epoch 00000: loss did not improve\n",
      "22500/22500 [==============================] - 9s - loss: 0.4130 - acc: 0.8112     \n",
      "Epoch 2/4\n",
      "22230/22500 [============================>.] - ETA: 0s - loss: 0.3169 - acc: 0.8646Epoch 00001: loss did not improve\n",
      "22500/22500 [==============================] - 5s - loss: 0.3167 - acc: 0.8646     \n",
      "Epoch 3/4\n",
      "22230/22500 [============================>.] - ETA: 0s - loss: 0.2848 - acc: 0.8812Epoch 00002: loss did not improve\n",
      "22500/22500 [==============================] - 5s - loss: 0.2854 - acc: 0.8812     \n",
      "Epoch 4/4\n",
      "22230/22500 [============================>.] - ETA: 0s - loss: 0.2613 - acc: 0.8925Epoch 00003: loss did not improve\n",
      "22500/22500 [==============================] - 5s - loss: 0.2615 - acc: 0.8926     \n",
      "2430/2500 [============================>.] - ETA: 0sEpoch 1/4\n",
      "22230/22500 [============================>.] - ETA: 0s - loss: 0.4149 - acc: 0.8108Epoch 00000: loss did not improve\n",
      "22500/22500 [==============================] - 9s - loss: 0.4145 - acc: 0.8109     \n",
      "Epoch 2/4\n",
      "22230/22500 [============================>.] - ETA: 0s - loss: 0.3174 - acc: 0.8651Epoch 00001: loss did not improve\n",
      "22500/22500 [==============================] - 5s - loss: 0.3172 - acc: 0.8655     \n",
      "Epoch 3/4\n",
      "22230/22500 [============================>.] - ETA: 0s - loss: 0.2886 - acc: 0.8792Epoch 00002: loss did not improve\n",
      "22500/22500 [==============================] - 5s - loss: 0.2881 - acc: 0.8795     \n",
      "Epoch 4/4\n",
      "22230/22500 [============================>.] - ETA: 0s - loss: 0.2658 - acc: 0.8904Epoch 00003: loss did not improve\n",
      "22500/22500 [==============================] - 5s - loss: 0.2657 - acc: 0.8905     \n",
      "2430/2500 [============================>.] - ETA: 0sEpoch 1/4\n",
      "22230/22500 [============================>.] - ETA: 0s - loss: 0.4125 - acc: 0.8145Epoch 00000: loss did not improve\n",
      "22500/22500 [==============================] - 9s - loss: 0.4122 - acc: 0.8146     \n",
      "Epoch 2/4\n",
      "22230/22500 [============================>.] - ETA: 0s - loss: 0.3184 - acc: 0.8668Epoch 00001: loss did not improve\n",
      "22500/22500 [==============================] - 5s - loss: 0.3186 - acc: 0.8667     \n",
      "Epoch 3/4\n",
      "22230/22500 [============================>.] - ETA: 0s - loss: 0.2905 - acc: 0.8803Epoch 00002: loss did not improve\n",
      "22500/22500 [==============================] - 5s - loss: 0.2902 - acc: 0.8805     \n",
      "Epoch 4/4\n",
      "22230/22500 [============================>.] - ETA: 0s - loss: 0.2686 - acc: 0.8913Epoch 00003: loss did not improve\n",
      "22500/22500 [==============================] - 5s - loss: 0.2689 - acc: 0.8911     \n",
      "2430/2500 [============================>.] - ETA: 0sEpoch 1/4\n",
      "22230/22500 [============================>.] - ETA: 0s - loss: 0.4098 - acc: 0.8140Epoch 00000: loss did not improve\n",
      "22500/22500 [==============================] - 9s - loss: 0.4085 - acc: 0.8147     \n",
      "Epoch 2/4\n",
      "22230/22500 [============================>.] - ETA: 0s - loss: 0.3161 - acc: 0.8659Epoch 00001: loss did not improve\n",
      "22500/22500 [==============================] - 5s - loss: 0.3160 - acc: 0.8661     \n",
      "Epoch 3/4\n",
      "22230/22500 [============================>.] - ETA: 0s - loss: 0.2890 - acc: 0.8778Epoch 00002: loss did not improve\n",
      "22500/22500 [==============================] - 5s - loss: 0.2888 - acc: 0.8778     \n",
      "Epoch 4/4\n",
      "22230/22500 [============================>.] - ETA: 0s - loss: 0.2666 - acc: 0.8917Epoch 00003: loss did not improve\n",
      "22500/22500 [==============================] - 5s - loss: 0.2668 - acc: 0.8915     \n",
      "1980/2500 [======================>.......] - ETA: 0sEpoch 1/3\n",
      "24825/25000 [============================>.] - ETA: 0s - loss: 0.4015 - acc: 0.8190Epoch 00000: loss did not improve\n",
      "25000/25000 [==============================] - 10s - loss: 0.4019 - acc: 0.8190    \n",
      "Epoch 2/3\n",
      "24825/25000 [============================>.] - ETA: 0s - loss: 0.3156 - acc: 0.8650Epoch 00001: loss did not improve\n",
      "25000/25000 [==============================] - 6s - loss: 0.3155 - acc: 0.8650     \n",
      "Epoch 3/3\n",
      "24825/25000 [============================>.] - ETA: 0s - loss: 0.2910 - acc: 0.8796Epoch 00002: loss did not improve\n",
      "25000/25000 [==============================] - 6s - loss: 0.2907 - acc: 0.8799     \n"
     ]
    }
   ],
   "source": [
    "checkpointer = ModelCheckpoint('./weights_3.hdf5', monitor='loss', verbose=1,\n",
    "                               save_best_only=True, mode='min')\n",
    "\n",
    "classifier = KerasClassifier(build_fn = construct_model)\n",
    "\n",
    "parameters = {'batch_size': [60, 75, 90],\n",
    "              'epochs': [2, 3, 4],\n",
    "              'optimizer':[adam]}\n",
    "\n",
    "grid_search = GridSearchCV(estimator = classifier,\n",
    "                           param_grid = parameters,\n",
    "                           fit_params={'callbacks': [checkpointer]},\n",
    "                           scoring = 'log_loss',\n",
    "                           cv = 10)\n",
    "\n",
    "grid_search = grid_search.fit(x_train_tok, y_train_tok)\n"
   ]
  },
  {
   "cell_type": "code",
   "execution_count": 71,
   "metadata": {
    "collapsed": true
   },
   "outputs": [],
   "source": [
    "best_parameters = grid_search.best_params_\n",
    "best_score = grid_search.best_score_"
   ]
  },
  {
   "cell_type": "code",
   "execution_count": 72,
   "metadata": {},
   "outputs": [
    {
     "data": {
      "text/plain": [
       "{'batch_size': 75,\n",
       " 'epochs': 3,\n",
       " 'optimizer': <keras.optimizers.Adam at 0x7f59f57816d8>}"
      ]
     },
     "execution_count": 72,
     "metadata": {},
     "output_type": "execute_result"
    }
   ],
   "source": [
    "best_parameters"
   ]
  },
  {
   "cell_type": "code",
   "execution_count": 73,
   "metadata": {},
   "outputs": [
    {
     "data": {
      "text/plain": [
       "-0.3254009095551621"
      ]
     },
     "execution_count": 73,
     "metadata": {},
     "output_type": "execute_result"
    }
   ],
   "source": [
    "best_score"
   ]
  },
  {
   "cell_type": "code",
   "execution_count": 77,
   "metadata": {},
   "outputs": [
    {
     "name": "stdout",
     "output_type": "stream",
     "text": [
      "24675/25000 [============================>.] - ETA: 0s"
     ]
    },
    {
     "data": {
      "text/plain": [
       "array([[ 1.],\n",
       "       [ 1.],\n",
       "       [ 1.],\n",
       "       ..., \n",
       "       [ 1.],\n",
       "       [ 0.],\n",
       "       [ 1.]])"
      ]
     },
     "execution_count": 77,
     "metadata": {},
     "output_type": "execute_result"
    }
   ],
   "source": [
    "grid_search.best_estimator_.predict(x_test_tok)"
   ]
  },
  {
   "cell_type": "code",
   "execution_count": 75,
   "metadata": {},
   "outputs": [
    {
     "name": "stdout",
     "output_type": "stream",
     "text": [
      "Accuracy:  0.86064\n"
     ]
    }
   ],
   "source": [
    "evaluate_model(model_builder=construct_model, optimizer=adam, weights='weights_3.hdf5')"
   ]
  }
 ],
 "metadata": {
  "kernelspec": {
   "display_name": "Python 3",
   "language": "python",
   "name": "python3"
  },
  "language_info": {
   "codemirror_mode": {
    "name": "ipython",
    "version": 3
   },
   "file_extension": ".py",
   "mimetype": "text/x-python",
   "name": "python",
   "nbconvert_exporter": "python",
   "pygments_lexer": "ipython3",
   "version": "3.6.1"
  }
 },
 "nbformat": 4,
 "nbformat_minor": 2
}
